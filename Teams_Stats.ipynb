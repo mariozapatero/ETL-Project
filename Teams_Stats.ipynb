{
 "cells": [
  {
   "cell_type": "code",
   "execution_count": 2,
   "id": "9099b765",
   "metadata": {},
   "outputs": [],
   "source": [
    "import requests as req\n",
    "from bs4 import BeautifulSoup as bs\n",
    "import requests as req\n",
    "import pandas as pd"
   ]
  },
  {
   "cell_type": "markdown",
   "id": "6b45df3c",
   "metadata": {},
   "source": [
    "# Web Scrapping (ESPN)"
   ]
  },
  {
   "cell_type": "code",
   "execution_count": 3,
   "id": "2958783f",
   "metadata": {},
   "outputs": [],
   "source": [
    "url = 'https://www.espn.com/soccer/standings/_/league/ESP.1/season/2019'"
   ]
  },
  {
   "cell_type": "code",
   "execution_count": 4,
   "id": "fdbb9ccb",
   "metadata": {},
   "outputs": [],
   "source": [
    "html=req.get(url).content"
   ]
  },
  {
   "cell_type": "code",
   "execution_count": 5,
   "id": "af1551f2",
   "metadata": {},
   "outputs": [],
   "source": [
    "soup=bs(html, 'html.parser')"
   ]
  },
  {
   "cell_type": "code",
   "execution_count": 6,
   "id": "9e59036d",
   "metadata": {},
   "outputs": [],
   "source": [
    "table_html = soup.find_all('div', class_=\"flex\")"
   ]
  },
  {
   "cell_type": "code",
   "execution_count": 8,
   "id": "f6abe4aa",
   "metadata": {},
   "outputs": [],
   "source": [
    "index = []\n",
    "\n",
    "for e in table_html:\n",
    "    if e.tr:\n",
    "        index.append(e.tr.text)"
   ]
  },
  {
   "cell_type": "code",
   "execution_count": 16,
   "id": "81b6ebcb",
   "metadata": {},
   "outputs": [
    {
     "data": {
      "text/plain": [
       "['2019-2020']"
      ]
     },
     "execution_count": 16,
     "metadata": {},
     "output_type": "execute_result"
    }
   ],
   "source": [
    "index  # Realmente extraer esto no nos aporta demasiado, pero nos permite comprender mejor la estructura html de esta url."
   ]
  },
  {
   "cell_type": "code",
   "execution_count": 10,
   "id": "24fb9fbb",
   "metadata": {},
   "outputs": [],
   "source": [
    "# El nombre de la primera columna (index) tiene diferente etiquetado html que el resto de nombres de columnas (tienen un div de otra clase).\n",
    "# Tenemos que acceder al html del resto de las columnas ('div', class_=\"Table__Scroller\").\n",
    "\n",
    "table_html_2 = soup.find_all('div', class_=\"Table__Scroller\")"
   ]
  },
  {
   "cell_type": "code",
   "execution_count": 11,
   "id": "8b6127c9",
   "metadata": {},
   "outputs": [],
   "source": [
    "# Ya tenemos el div completo. Ahra tenemos que acceder al nombre de las columnas (texto de <a> dentro del <div>).\n",
    "\n",
    "col_html = []\n",
    "for e in table_html_2:\n",
    "    col_html.append(e.find_all('a'))\n",
    "       "
   ]
  },
  {
   "cell_type": "code",
   "execution_count": 12,
   "id": "3be20bf5",
   "metadata": {},
   "outputs": [
    {
     "data": {
      "text/plain": [
       "[[<a class=\"AnchorLink\" href=\"/soccer/standings/_/league/ESP.1/sort/gamesplayed/dir/desc/season/2019\" tabindex=\"0\">GP</a>,\n",
       "  <a class=\"AnchorLink\" href=\"/soccer/standings/_/league/ESP.1/sort/wins/dir/desc/season/2019\" tabindex=\"0\">W</a>,\n",
       "  <a class=\"AnchorLink\" href=\"/soccer/standings/_/league/ESP.1/sort/ties/dir/desc/season/2019\" tabindex=\"0\">D</a>,\n",
       "  <a class=\"AnchorLink\" href=\"/soccer/standings/_/league/ESP.1/sort/losses/dir/asc/season/2019\" tabindex=\"0\">L</a>,\n",
       "  <a class=\"AnchorLink\" href=\"/soccer/standings/_/league/ESP.1/sort/pointsfor/dir/desc/season/2019\" tabindex=\"0\">F</a>,\n",
       "  <a class=\"AnchorLink\" href=\"/soccer/standings/_/league/ESP.1/sort/pointsagainst/dir/asc/season/2019\" tabindex=\"0\">A</a>,\n",
       "  <a class=\"AnchorLink\" href=\"/soccer/standings/_/league/ESP.1/sort/pointdifferential/dir/desc/season/2019\" tabindex=\"0\">GD</a>,\n",
       "  <a class=\"AnchorLink\" href=\"/soccer/standings/_/league/ESP.1/sort/points/dir/desc/season/2019\" tabindex=\"0\">P</a>]]"
      ]
     },
     "execution_count": 12,
     "metadata": {},
     "output_type": "execute_result"
    }
   ],
   "source": [
    "col_html  # Ya tenemos los diferentes tags <a>."
   ]
  },
  {
   "cell_type": "code",
   "execution_count": 14,
   "id": "f3661600",
   "metadata": {},
   "outputs": [],
   "source": [
    "# Accedemos al texto (doble bucle porque 'row_html' es una lista dentro de otra lista (hicimos find_all)).\n",
    "\n",
    "col_names=[]\n",
    "for e in col_html:\n",
    "    for i in e:\n",
    "        col_names.append(i.text)"
   ]
  },
  {
   "cell_type": "code",
   "execution_count": 15,
   "id": "51fced22",
   "metadata": {},
   "outputs": [
    {
     "data": {
      "text/plain": [
       "['GP', 'W', 'D', 'L', 'F', 'A', 'GD', 'P']"
      ]
     },
     "execution_count": 15,
     "metadata": {},
     "output_type": "execute_result"
    }
   ],
   "source": [
    "col_names # Ya tenemos los nombres de las columnas (primer paso para ir construyendo nuestro DataFrame)"
   ]
  },
  {
   "cell_type": "markdown",
   "id": "cfdb5eb0",
   "metadata": {},
   "source": [
    "Ahora que ya tenemos el nombre de las columnas, seguimos extrayendo los datos.\n",
    "\n",
    "Como la primera columna (equipos) está estructurada de manera independiente a las otras, debemos hacerlo por separado (primero extraeremos los equipos y luego los valores de la tabla)."
   ]
  },
  {
   "cell_type": "code",
   "execution_count": 17,
   "id": "ceb50017",
   "metadata": {},
   "outputs": [],
   "source": [
    "# Empezamos extrayendo los nombres de los equipos.\n",
    "\n",
    "teams_html = soup.find_all('span', class_=\"hide-mobile\")"
   ]
  },
  {
   "cell_type": "code",
   "execution_count": 18,
   "id": "2140cc7e",
   "metadata": {},
   "outputs": [],
   "source": [
    "teams = []\n",
    "for e in teams_html:\n",
    "    teams.append(e.text)"
   ]
  },
  {
   "cell_type": "code",
   "execution_count": 19,
   "id": "8dc0d054",
   "metadata": {
    "scrolled": true
   },
   "outputs": [
    {
     "data": {
      "text/plain": [
       "['Real Madrid',\n",
       " 'Barcelona',\n",
       " 'Atletico Madrid',\n",
       " 'Sevilla',\n",
       " 'Villarreal',\n",
       " 'Real Sociedad',\n",
       " 'Granada',\n",
       " 'Getafe',\n",
       " 'Valencia',\n",
       " 'Osasuna',\n",
       " 'Athletic Club',\n",
       " 'Levante',\n",
       " 'Real Valladolid',\n",
       " 'Eibar',\n",
       " 'Real Betis',\n",
       " 'Alavés',\n",
       " 'Celta Vigo',\n",
       " 'Leganés',\n",
       " 'Mallorca',\n",
       " 'Espanyol']"
      ]
     },
     "execution_count": 19,
     "metadata": {},
     "output_type": "execute_result"
    }
   ],
   "source": [
    "teams # Ya tenemos los nombres de los equipos (primera columna)"
   ]
  },
  {
   "cell_type": "markdown",
   "id": "7aa83e4b",
   "metadata": {},
   "source": [
    "Ahora que tenemos los nombres de las columnas y los equipos, extraemos los datos de la tabla."
   ]
  },
  {
   "cell_type": "code",
   "execution_count": 20,
   "id": "a21f2f0b",
   "metadata": {},
   "outputs": [],
   "source": [
    "data_html = soup.find_all('tbody', class_= \"Table__TBODY\")"
   ]
  },
  {
   "cell_type": "code",
   "execution_count": 21,
   "id": "074191ea",
   "metadata": {},
   "outputs": [
    {
     "data": {
      "text/plain": [
       "2"
      ]
     },
     "execution_count": 21,
     "metadata": {},
     "output_type": "execute_result"
    }
   ],
   "source": [
    "len(data_html)"
   ]
  },
  {
   "cell_type": "code",
   "execution_count": 22,
   "id": "bc96d572",
   "metadata": {},
   "outputs": [],
   "source": [
    "# Seleccionamos los 'tr' en el segundo elemento de data_html (es el 'tbody' de la clase \"Table__TBODY\" que nos interesa).\n",
    "\n",
    "data_html2 = data_html[1].find_all('tr')"
   ]
  },
  {
   "cell_type": "code",
   "execution_count": 25,
   "id": "9caf90e4",
   "metadata": {
    "scrolled": true
   },
   "outputs": [
    {
     "data": {
      "text/plain": [
       "<tr class=\"filled Table__TR Table__TR--sm Table__even\" data-idx=\"1\"><td class=\"Table__TD\"><span class=\"stat-cell\">38</span></td><td class=\"Table__TD\"><span class=\"stat-cell\">25</span></td><td class=\"Table__TD\"><span class=\"stat-cell\">7</span></td><td class=\"Table__TD\"><span class=\"stat-cell\">6</span></td><td class=\"Table__TD\"><span class=\"stat-cell\">86</span></td><td class=\"Table__TD\"><span class=\"stat-cell\">38</span></td><td class=\"Table__TD\"><span class=\"stat-cell clr-positive\">+48</span></td><td class=\"Table__TD\"><span class=\"stat-cell\">82</span></td></tr>"
      ]
     },
     "execution_count": 25,
     "metadata": {},
     "output_type": "execute_result"
    }
   ],
   "source": [
    "# Primero hacemos la prueba para un elemento de data_html2.\n",
    "\n",
    "data_html2[1]"
   ]
  },
  {
   "cell_type": "code",
   "execution_count": 26,
   "id": "44d61aad",
   "metadata": {},
   "outputs": [
    {
     "data": {
      "text/plain": [
       "[<td class=\"Table__TD\"><span class=\"stat-cell\">38</span></td>,\n",
       " <td class=\"Table__TD\"><span class=\"stat-cell\">25</span></td>,\n",
       " <td class=\"Table__TD\"><span class=\"stat-cell\">7</span></td>,\n",
       " <td class=\"Table__TD\"><span class=\"stat-cell\">6</span></td>,\n",
       " <td class=\"Table__TD\"><span class=\"stat-cell\">86</span></td>,\n",
       " <td class=\"Table__TD\"><span class=\"stat-cell\">38</span></td>,\n",
       " <td class=\"Table__TD\"><span class=\"stat-cell clr-positive\">+48</span></td>,\n",
       " <td class=\"Table__TD\"><span class=\"stat-cell\">82</span></td>]"
      ]
     },
     "execution_count": 26,
     "metadata": {},
     "output_type": "execute_result"
    }
   ],
   "source": [
    "data_html2[1].find_all('td')"
   ]
  },
  {
   "cell_type": "code",
   "execution_count": 29,
   "id": "672bcd10",
   "metadata": {},
   "outputs": [
    {
     "data": {
      "text/plain": [
       "['38', '25', '7', '6', '86', '38', '+48', '82']"
      ]
     },
     "execution_count": 29,
     "metadata": {},
     "output_type": "execute_result"
    }
   ],
   "source": [
    "[e.text for e in data_html2[1].find_all('td')]  \n",
    "\n",
    "# Comprobamos que funciona, así que aplicamos el proceso anterior a todo el contenido de la tabla."
   ]
  },
  {
   "cell_type": "code",
   "execution_count": 30,
   "id": "cab05d87",
   "metadata": {},
   "outputs": [],
   "source": [
    "# Primero creamos una lista con todos los 'td' en todos los elemento del 'tbody'.\n",
    "\n",
    "data_prov = []\n",
    "for e in data_html2:\n",
    "    data_prov.append(e.find_all('td'))"
   ]
  },
  {
   "cell_type": "code",
   "execution_count": 31,
   "id": "09046b9c",
   "metadata": {
    "scrolled": true
   },
   "outputs": [],
   "source": [
    "# Aplicamos el doble bucle sobre la lista previamente creada.\n",
    "\n",
    "# El doble bucle con la lista 'prov' nos permite añadir a data_def listas con los valores de cada fila.\n",
    "# Es decir, data_def será una lista de listas (podemos meterlo como data en un DataFrame).\n",
    "#Si no hacemos esto, lo que tendríamos es una única lista con todos los valores y esto no es lo que queremos.\n",
    "\n",
    "data_def = []\n",
    "\n",
    "for e in data_prov:\n",
    "    prov = []\n",
    "    \n",
    "    for i in e:\n",
    "        prov.append(i.text)\n",
    "        \n",
    "    data_def.append(prov)"
   ]
  },
  {
   "cell_type": "code",
   "execution_count": 32,
   "id": "63696d79",
   "metadata": {},
   "outputs": [
    {
     "data": {
      "text/plain": [
       "[['38', '26', '9', '3', '70', '25', '+45', '87'],\n",
       " ['38', '25', '7', '6', '86', '38', '+48', '82'],\n",
       " ['38', '18', '16', '4', '51', '27', '+24', '70'],\n",
       " ['38', '19', '13', '6', '54', '34', '+20', '70'],\n",
       " ['38', '18', '6', '14', '63', '49', '+14', '60'],\n",
       " ['38', '16', '8', '14', '56', '48', '+8', '56'],\n",
       " ['38', '16', '8', '14', '52', '45', '+7', '56'],\n",
       " ['38', '14', '12', '12', '43', '37', '+6', '54'],\n",
       " ['38', '14', '11', '13', '46', '53', '-7', '53'],\n",
       " ['38', '13', '13', '12', '46', '54', '-8', '52'],\n",
       " ['38', '13', '12', '13', '41', '38', '+3', '51'],\n",
       " ['38', '14', '7', '17', '47', '53', '-6', '49'],\n",
       " ['38', '9', '15', '14', '32', '43', '-11', '42'],\n",
       " ['38', '11', '9', '18', '39', '56', '-17', '42'],\n",
       " ['38', '10', '11', '17', '48', '60', '-12', '41'],\n",
       " ['38', '10', '9', '19', '34', '59', '-25', '39'],\n",
       " ['38', '7', '16', '15', '37', '49', '-12', '37'],\n",
       " ['38', '8', '12', '18', '30', '51', '-21', '36'],\n",
       " ['38', '9', '6', '23', '40', '65', '-25', '33'],\n",
       " ['38', '5', '10', '23', '27', '58', '-31', '25']]"
      ]
     },
     "execution_count": 32,
     "metadata": {},
     "output_type": "execute_result"
    }
   ],
   "source": [
    "# Observamos nuestro data (cada elemento de la lista, es una lista que contiene los valores para una fila).\n",
    "\n",
    "data_def"
   ]
  },
  {
   "cell_type": "markdown",
   "id": "63980869",
   "metadata": {},
   "source": [
    "Generamos el DataFrame a partir del scrapeo de ESPN."
   ]
  },
  {
   "cell_type": "code",
   "execution_count": 33,
   "id": "1c7914a8",
   "metadata": {},
   "outputs": [
    {
     "data": {
      "text/plain": [
       "['GP', 'W', 'D', 'L', 'F', 'A', 'GD', 'P']"
      ]
     },
     "execution_count": 33,
     "metadata": {},
     "output_type": "execute_result"
    }
   ],
   "source": [
    "col_names"
   ]
  },
  {
   "cell_type": "code",
   "execution_count": 34,
   "id": "c3ab5f8c",
   "metadata": {
    "scrolled": false
   },
   "outputs": [
    {
     "data": {
      "text/plain": [
       "['Real Madrid',\n",
       " 'Barcelona',\n",
       " 'Atletico Madrid',\n",
       " 'Sevilla',\n",
       " 'Villarreal',\n",
       " 'Real Sociedad',\n",
       " 'Granada',\n",
       " 'Getafe',\n",
       " 'Valencia',\n",
       " 'Osasuna',\n",
       " 'Athletic Club',\n",
       " 'Levante',\n",
       " 'Real Valladolid',\n",
       " 'Eibar',\n",
       " 'Real Betis',\n",
       " 'Alavés',\n",
       " 'Celta Vigo',\n",
       " 'Leganés',\n",
       " 'Mallorca',\n",
       " 'Espanyol']"
      ]
     },
     "execution_count": 34,
     "metadata": {},
     "output_type": "execute_result"
    }
   ],
   "source": [
    "teams # Será el index de nuestro DataFrame"
   ]
  },
  {
   "cell_type": "code",
   "execution_count": 35,
   "id": "ea84c1db",
   "metadata": {},
   "outputs": [
    {
     "data": {
      "text/plain": [
       "True"
      ]
     },
     "execution_count": 35,
     "metadata": {},
     "output_type": "execute_result"
    }
   ],
   "source": [
    "len(col_names)==len(data_def[0])   # Podemos generar el DataFrame sin problemas."
   ]
  },
  {
   "cell_type": "code",
   "execution_count": 36,
   "id": "9d4c9b8d",
   "metadata": {},
   "outputs": [
    {
     "data": {
      "text/plain": [
       "True"
      ]
     },
     "execution_count": 36,
     "metadata": {},
     "output_type": "execute_result"
    }
   ],
   "source": [
    "len(teams)==len(data_def)     # Sí coincide así que no ha habido fallos (hay tantos equipos como registros de valores (filas))."
   ]
  },
  {
   "cell_type": "code",
   "execution_count": 41,
   "id": "c69ee115",
   "metadata": {},
   "outputs": [],
   "source": [
    "teams_stats = pd.DataFrame(data_def, columns = col_names)"
   ]
  },
  {
   "cell_type": "code",
   "execution_count": 42,
   "id": "3f2bcd8f",
   "metadata": {},
   "outputs": [
    {
     "data": {
      "text/html": [
       "<div>\n",
       "<style scoped>\n",
       "    .dataframe tbody tr th:only-of-type {\n",
       "        vertical-align: middle;\n",
       "    }\n",
       "\n",
       "    .dataframe tbody tr th {\n",
       "        vertical-align: top;\n",
       "    }\n",
       "\n",
       "    .dataframe thead th {\n",
       "        text-align: right;\n",
       "    }\n",
       "</style>\n",
       "<table border=\"1\" class=\"dataframe\">\n",
       "  <thead>\n",
       "    <tr style=\"text-align: right;\">\n",
       "      <th></th>\n",
       "      <th>GP</th>\n",
       "      <th>W</th>\n",
       "      <th>D</th>\n",
       "      <th>L</th>\n",
       "      <th>F</th>\n",
       "      <th>A</th>\n",
       "      <th>GD</th>\n",
       "      <th>P</th>\n",
       "    </tr>\n",
       "  </thead>\n",
       "  <tbody>\n",
       "    <tr>\n",
       "      <th>0</th>\n",
       "      <td>38</td>\n",
       "      <td>26</td>\n",
       "      <td>9</td>\n",
       "      <td>3</td>\n",
       "      <td>70</td>\n",
       "      <td>25</td>\n",
       "      <td>+45</td>\n",
       "      <td>87</td>\n",
       "    </tr>\n",
       "    <tr>\n",
       "      <th>1</th>\n",
       "      <td>38</td>\n",
       "      <td>25</td>\n",
       "      <td>7</td>\n",
       "      <td>6</td>\n",
       "      <td>86</td>\n",
       "      <td>38</td>\n",
       "      <td>+48</td>\n",
       "      <td>82</td>\n",
       "    </tr>\n",
       "    <tr>\n",
       "      <th>2</th>\n",
       "      <td>38</td>\n",
       "      <td>18</td>\n",
       "      <td>16</td>\n",
       "      <td>4</td>\n",
       "      <td>51</td>\n",
       "      <td>27</td>\n",
       "      <td>+24</td>\n",
       "      <td>70</td>\n",
       "    </tr>\n",
       "    <tr>\n",
       "      <th>3</th>\n",
       "      <td>38</td>\n",
       "      <td>19</td>\n",
       "      <td>13</td>\n",
       "      <td>6</td>\n",
       "      <td>54</td>\n",
       "      <td>34</td>\n",
       "      <td>+20</td>\n",
       "      <td>70</td>\n",
       "    </tr>\n",
       "    <tr>\n",
       "      <th>4</th>\n",
       "      <td>38</td>\n",
       "      <td>18</td>\n",
       "      <td>6</td>\n",
       "      <td>14</td>\n",
       "      <td>63</td>\n",
       "      <td>49</td>\n",
       "      <td>+14</td>\n",
       "      <td>60</td>\n",
       "    </tr>\n",
       "    <tr>\n",
       "      <th>5</th>\n",
       "      <td>38</td>\n",
       "      <td>16</td>\n",
       "      <td>8</td>\n",
       "      <td>14</td>\n",
       "      <td>56</td>\n",
       "      <td>48</td>\n",
       "      <td>+8</td>\n",
       "      <td>56</td>\n",
       "    </tr>\n",
       "    <tr>\n",
       "      <th>6</th>\n",
       "      <td>38</td>\n",
       "      <td>16</td>\n",
       "      <td>8</td>\n",
       "      <td>14</td>\n",
       "      <td>52</td>\n",
       "      <td>45</td>\n",
       "      <td>+7</td>\n",
       "      <td>56</td>\n",
       "    </tr>\n",
       "    <tr>\n",
       "      <th>7</th>\n",
       "      <td>38</td>\n",
       "      <td>14</td>\n",
       "      <td>12</td>\n",
       "      <td>12</td>\n",
       "      <td>43</td>\n",
       "      <td>37</td>\n",
       "      <td>+6</td>\n",
       "      <td>54</td>\n",
       "    </tr>\n",
       "    <tr>\n",
       "      <th>8</th>\n",
       "      <td>38</td>\n",
       "      <td>14</td>\n",
       "      <td>11</td>\n",
       "      <td>13</td>\n",
       "      <td>46</td>\n",
       "      <td>53</td>\n",
       "      <td>-7</td>\n",
       "      <td>53</td>\n",
       "    </tr>\n",
       "    <tr>\n",
       "      <th>9</th>\n",
       "      <td>38</td>\n",
       "      <td>13</td>\n",
       "      <td>13</td>\n",
       "      <td>12</td>\n",
       "      <td>46</td>\n",
       "      <td>54</td>\n",
       "      <td>-8</td>\n",
       "      <td>52</td>\n",
       "    </tr>\n",
       "    <tr>\n",
       "      <th>10</th>\n",
       "      <td>38</td>\n",
       "      <td>13</td>\n",
       "      <td>12</td>\n",
       "      <td>13</td>\n",
       "      <td>41</td>\n",
       "      <td>38</td>\n",
       "      <td>+3</td>\n",
       "      <td>51</td>\n",
       "    </tr>\n",
       "    <tr>\n",
       "      <th>11</th>\n",
       "      <td>38</td>\n",
       "      <td>14</td>\n",
       "      <td>7</td>\n",
       "      <td>17</td>\n",
       "      <td>47</td>\n",
       "      <td>53</td>\n",
       "      <td>-6</td>\n",
       "      <td>49</td>\n",
       "    </tr>\n",
       "    <tr>\n",
       "      <th>12</th>\n",
       "      <td>38</td>\n",
       "      <td>9</td>\n",
       "      <td>15</td>\n",
       "      <td>14</td>\n",
       "      <td>32</td>\n",
       "      <td>43</td>\n",
       "      <td>-11</td>\n",
       "      <td>42</td>\n",
       "    </tr>\n",
       "    <tr>\n",
       "      <th>13</th>\n",
       "      <td>38</td>\n",
       "      <td>11</td>\n",
       "      <td>9</td>\n",
       "      <td>18</td>\n",
       "      <td>39</td>\n",
       "      <td>56</td>\n",
       "      <td>-17</td>\n",
       "      <td>42</td>\n",
       "    </tr>\n",
       "    <tr>\n",
       "      <th>14</th>\n",
       "      <td>38</td>\n",
       "      <td>10</td>\n",
       "      <td>11</td>\n",
       "      <td>17</td>\n",
       "      <td>48</td>\n",
       "      <td>60</td>\n",
       "      <td>-12</td>\n",
       "      <td>41</td>\n",
       "    </tr>\n",
       "    <tr>\n",
       "      <th>15</th>\n",
       "      <td>38</td>\n",
       "      <td>10</td>\n",
       "      <td>9</td>\n",
       "      <td>19</td>\n",
       "      <td>34</td>\n",
       "      <td>59</td>\n",
       "      <td>-25</td>\n",
       "      <td>39</td>\n",
       "    </tr>\n",
       "    <tr>\n",
       "      <th>16</th>\n",
       "      <td>38</td>\n",
       "      <td>7</td>\n",
       "      <td>16</td>\n",
       "      <td>15</td>\n",
       "      <td>37</td>\n",
       "      <td>49</td>\n",
       "      <td>-12</td>\n",
       "      <td>37</td>\n",
       "    </tr>\n",
       "    <tr>\n",
       "      <th>17</th>\n",
       "      <td>38</td>\n",
       "      <td>8</td>\n",
       "      <td>12</td>\n",
       "      <td>18</td>\n",
       "      <td>30</td>\n",
       "      <td>51</td>\n",
       "      <td>-21</td>\n",
       "      <td>36</td>\n",
       "    </tr>\n",
       "    <tr>\n",
       "      <th>18</th>\n",
       "      <td>38</td>\n",
       "      <td>9</td>\n",
       "      <td>6</td>\n",
       "      <td>23</td>\n",
       "      <td>40</td>\n",
       "      <td>65</td>\n",
       "      <td>-25</td>\n",
       "      <td>33</td>\n",
       "    </tr>\n",
       "    <tr>\n",
       "      <th>19</th>\n",
       "      <td>38</td>\n",
       "      <td>5</td>\n",
       "      <td>10</td>\n",
       "      <td>23</td>\n",
       "      <td>27</td>\n",
       "      <td>58</td>\n",
       "      <td>-31</td>\n",
       "      <td>25</td>\n",
       "    </tr>\n",
       "  </tbody>\n",
       "</table>\n",
       "</div>"
      ],
      "text/plain": [
       "    GP   W   D   L   F   A   GD   P\n",
       "0   38  26   9   3  70  25  +45  87\n",
       "1   38  25   7   6  86  38  +48  82\n",
       "2   38  18  16   4  51  27  +24  70\n",
       "3   38  19  13   6  54  34  +20  70\n",
       "4   38  18   6  14  63  49  +14  60\n",
       "5   38  16   8  14  56  48   +8  56\n",
       "6   38  16   8  14  52  45   +7  56\n",
       "7   38  14  12  12  43  37   +6  54\n",
       "8   38  14  11  13  46  53   -7  53\n",
       "9   38  13  13  12  46  54   -8  52\n",
       "10  38  13  12  13  41  38   +3  51\n",
       "11  38  14   7  17  47  53   -6  49\n",
       "12  38   9  15  14  32  43  -11  42\n",
       "13  38  11   9  18  39  56  -17  42\n",
       "14  38  10  11  17  48  60  -12  41\n",
       "15  38  10   9  19  34  59  -25  39\n",
       "16  38   7  16  15  37  49  -12  37\n",
       "17  38   8  12  18  30  51  -21  36\n",
       "18  38   9   6  23  40  65  -25  33\n",
       "19  38   5  10  23  27  58  -31  25"
      ]
     },
     "execution_count": 42,
     "metadata": {},
     "output_type": "execute_result"
    }
   ],
   "source": [
    "teams_stats  # Tenemos el DataFrame con todos los valores ('data_def'). Ahora añadiremos los equipos y lo definiremos como index."
   ]
  },
  {
   "cell_type": "code",
   "execution_count": 45,
   "id": "d548e00b",
   "metadata": {},
   "outputs": [],
   "source": [
    "# Añadimos la columna 'teams'.\n",
    "\n",
    "teams_stats['Teams'] = teams"
   ]
  },
  {
   "cell_type": "code",
   "execution_count": 46,
   "id": "268f3189",
   "metadata": {
    "scrolled": true
   },
   "outputs": [],
   "source": [
    "# Definimos 'Team' como index.\n",
    "\n",
    "teams_stats.set_index('Teams',inplace = True)"
   ]
  },
  {
   "cell_type": "code",
   "execution_count": 48,
   "id": "23f4110f",
   "metadata": {},
   "outputs": [
    {
     "data": {
      "text/html": [
       "<div>\n",
       "<style scoped>\n",
       "    .dataframe tbody tr th:only-of-type {\n",
       "        vertical-align: middle;\n",
       "    }\n",
       "\n",
       "    .dataframe tbody tr th {\n",
       "        vertical-align: top;\n",
       "    }\n",
       "\n",
       "    .dataframe thead th {\n",
       "        text-align: right;\n",
       "    }\n",
       "</style>\n",
       "<table border=\"1\" class=\"dataframe\">\n",
       "  <thead>\n",
       "    <tr style=\"text-align: right;\">\n",
       "      <th></th>\n",
       "      <th>GP</th>\n",
       "      <th>W</th>\n",
       "      <th>D</th>\n",
       "      <th>L</th>\n",
       "      <th>F</th>\n",
       "      <th>A</th>\n",
       "      <th>GD</th>\n",
       "      <th>P</th>\n",
       "    </tr>\n",
       "    <tr>\n",
       "      <th>Teams</th>\n",
       "      <th></th>\n",
       "      <th></th>\n",
       "      <th></th>\n",
       "      <th></th>\n",
       "      <th></th>\n",
       "      <th></th>\n",
       "      <th></th>\n",
       "      <th></th>\n",
       "    </tr>\n",
       "  </thead>\n",
       "  <tbody>\n",
       "    <tr>\n",
       "      <th>Real Madrid</th>\n",
       "      <td>38</td>\n",
       "      <td>26</td>\n",
       "      <td>9</td>\n",
       "      <td>3</td>\n",
       "      <td>70</td>\n",
       "      <td>25</td>\n",
       "      <td>+45</td>\n",
       "      <td>87</td>\n",
       "    </tr>\n",
       "    <tr>\n",
       "      <th>Barcelona</th>\n",
       "      <td>38</td>\n",
       "      <td>25</td>\n",
       "      <td>7</td>\n",
       "      <td>6</td>\n",
       "      <td>86</td>\n",
       "      <td>38</td>\n",
       "      <td>+48</td>\n",
       "      <td>82</td>\n",
       "    </tr>\n",
       "    <tr>\n",
       "      <th>Atletico Madrid</th>\n",
       "      <td>38</td>\n",
       "      <td>18</td>\n",
       "      <td>16</td>\n",
       "      <td>4</td>\n",
       "      <td>51</td>\n",
       "      <td>27</td>\n",
       "      <td>+24</td>\n",
       "      <td>70</td>\n",
       "    </tr>\n",
       "    <tr>\n",
       "      <th>Sevilla</th>\n",
       "      <td>38</td>\n",
       "      <td>19</td>\n",
       "      <td>13</td>\n",
       "      <td>6</td>\n",
       "      <td>54</td>\n",
       "      <td>34</td>\n",
       "      <td>+20</td>\n",
       "      <td>70</td>\n",
       "    </tr>\n",
       "    <tr>\n",
       "      <th>Villarreal</th>\n",
       "      <td>38</td>\n",
       "      <td>18</td>\n",
       "      <td>6</td>\n",
       "      <td>14</td>\n",
       "      <td>63</td>\n",
       "      <td>49</td>\n",
       "      <td>+14</td>\n",
       "      <td>60</td>\n",
       "    </tr>\n",
       "    <tr>\n",
       "      <th>Real Sociedad</th>\n",
       "      <td>38</td>\n",
       "      <td>16</td>\n",
       "      <td>8</td>\n",
       "      <td>14</td>\n",
       "      <td>56</td>\n",
       "      <td>48</td>\n",
       "      <td>+8</td>\n",
       "      <td>56</td>\n",
       "    </tr>\n",
       "    <tr>\n",
       "      <th>Granada</th>\n",
       "      <td>38</td>\n",
       "      <td>16</td>\n",
       "      <td>8</td>\n",
       "      <td>14</td>\n",
       "      <td>52</td>\n",
       "      <td>45</td>\n",
       "      <td>+7</td>\n",
       "      <td>56</td>\n",
       "    </tr>\n",
       "    <tr>\n",
       "      <th>Getafe</th>\n",
       "      <td>38</td>\n",
       "      <td>14</td>\n",
       "      <td>12</td>\n",
       "      <td>12</td>\n",
       "      <td>43</td>\n",
       "      <td>37</td>\n",
       "      <td>+6</td>\n",
       "      <td>54</td>\n",
       "    </tr>\n",
       "    <tr>\n",
       "      <th>Valencia</th>\n",
       "      <td>38</td>\n",
       "      <td>14</td>\n",
       "      <td>11</td>\n",
       "      <td>13</td>\n",
       "      <td>46</td>\n",
       "      <td>53</td>\n",
       "      <td>-7</td>\n",
       "      <td>53</td>\n",
       "    </tr>\n",
       "    <tr>\n",
       "      <th>Osasuna</th>\n",
       "      <td>38</td>\n",
       "      <td>13</td>\n",
       "      <td>13</td>\n",
       "      <td>12</td>\n",
       "      <td>46</td>\n",
       "      <td>54</td>\n",
       "      <td>-8</td>\n",
       "      <td>52</td>\n",
       "    </tr>\n",
       "    <tr>\n",
       "      <th>Athletic Club</th>\n",
       "      <td>38</td>\n",
       "      <td>13</td>\n",
       "      <td>12</td>\n",
       "      <td>13</td>\n",
       "      <td>41</td>\n",
       "      <td>38</td>\n",
       "      <td>+3</td>\n",
       "      <td>51</td>\n",
       "    </tr>\n",
       "    <tr>\n",
       "      <th>Levante</th>\n",
       "      <td>38</td>\n",
       "      <td>14</td>\n",
       "      <td>7</td>\n",
       "      <td>17</td>\n",
       "      <td>47</td>\n",
       "      <td>53</td>\n",
       "      <td>-6</td>\n",
       "      <td>49</td>\n",
       "    </tr>\n",
       "    <tr>\n",
       "      <th>Real Valladolid</th>\n",
       "      <td>38</td>\n",
       "      <td>9</td>\n",
       "      <td>15</td>\n",
       "      <td>14</td>\n",
       "      <td>32</td>\n",
       "      <td>43</td>\n",
       "      <td>-11</td>\n",
       "      <td>42</td>\n",
       "    </tr>\n",
       "    <tr>\n",
       "      <th>Eibar</th>\n",
       "      <td>38</td>\n",
       "      <td>11</td>\n",
       "      <td>9</td>\n",
       "      <td>18</td>\n",
       "      <td>39</td>\n",
       "      <td>56</td>\n",
       "      <td>-17</td>\n",
       "      <td>42</td>\n",
       "    </tr>\n",
       "    <tr>\n",
       "      <th>Real Betis</th>\n",
       "      <td>38</td>\n",
       "      <td>10</td>\n",
       "      <td>11</td>\n",
       "      <td>17</td>\n",
       "      <td>48</td>\n",
       "      <td>60</td>\n",
       "      <td>-12</td>\n",
       "      <td>41</td>\n",
       "    </tr>\n",
       "    <tr>\n",
       "      <th>Alavés</th>\n",
       "      <td>38</td>\n",
       "      <td>10</td>\n",
       "      <td>9</td>\n",
       "      <td>19</td>\n",
       "      <td>34</td>\n",
       "      <td>59</td>\n",
       "      <td>-25</td>\n",
       "      <td>39</td>\n",
       "    </tr>\n",
       "    <tr>\n",
       "      <th>Celta Vigo</th>\n",
       "      <td>38</td>\n",
       "      <td>7</td>\n",
       "      <td>16</td>\n",
       "      <td>15</td>\n",
       "      <td>37</td>\n",
       "      <td>49</td>\n",
       "      <td>-12</td>\n",
       "      <td>37</td>\n",
       "    </tr>\n",
       "    <tr>\n",
       "      <th>Leganés</th>\n",
       "      <td>38</td>\n",
       "      <td>8</td>\n",
       "      <td>12</td>\n",
       "      <td>18</td>\n",
       "      <td>30</td>\n",
       "      <td>51</td>\n",
       "      <td>-21</td>\n",
       "      <td>36</td>\n",
       "    </tr>\n",
       "    <tr>\n",
       "      <th>Mallorca</th>\n",
       "      <td>38</td>\n",
       "      <td>9</td>\n",
       "      <td>6</td>\n",
       "      <td>23</td>\n",
       "      <td>40</td>\n",
       "      <td>65</td>\n",
       "      <td>-25</td>\n",
       "      <td>33</td>\n",
       "    </tr>\n",
       "    <tr>\n",
       "      <th>Espanyol</th>\n",
       "      <td>38</td>\n",
       "      <td>5</td>\n",
       "      <td>10</td>\n",
       "      <td>23</td>\n",
       "      <td>27</td>\n",
       "      <td>58</td>\n",
       "      <td>-31</td>\n",
       "      <td>25</td>\n",
       "    </tr>\n",
       "  </tbody>\n",
       "</table>\n",
       "</div>"
      ],
      "text/plain": [
       "                 GP   W   D   L   F   A   GD   P\n",
       "Teams                                           \n",
       "Real Madrid      38  26   9   3  70  25  +45  87\n",
       "Barcelona        38  25   7   6  86  38  +48  82\n",
       "Atletico Madrid  38  18  16   4  51  27  +24  70\n",
       "Sevilla          38  19  13   6  54  34  +20  70\n",
       "Villarreal       38  18   6  14  63  49  +14  60\n",
       "Real Sociedad    38  16   8  14  56  48   +8  56\n",
       "Granada          38  16   8  14  52  45   +7  56\n",
       "Getafe           38  14  12  12  43  37   +6  54\n",
       "Valencia         38  14  11  13  46  53   -7  53\n",
       "Osasuna          38  13  13  12  46  54   -8  52\n",
       "Athletic Club    38  13  12  13  41  38   +3  51\n",
       "Levante          38  14   7  17  47  53   -6  49\n",
       "Real Valladolid  38   9  15  14  32  43  -11  42\n",
       "Eibar            38  11   9  18  39  56  -17  42\n",
       "Real Betis       38  10  11  17  48  60  -12  41\n",
       "Alavés           38  10   9  19  34  59  -25  39\n",
       "Celta Vigo       38   7  16  15  37  49  -12  37\n",
       "Leganés          38   8  12  18  30  51  -21  36\n",
       "Mallorca         38   9   6  23  40  65  -25  33\n",
       "Espanyol         38   5  10  23  27  58  -31  25"
      ]
     },
     "execution_count": 48,
     "metadata": {},
     "output_type": "execute_result"
    }
   ],
   "source": [
    "# Ya tenemos nuestro DataFrame perfectamente estructurado.\n",
    "# Debemos tener en cuenta que los valores recogidos en el DF son de tipo string.\n",
    "# Esto ahora no supone ningún problema, pero es algo que debemos tener en cuenta si queremos trabajar con los datos más adelante.\n",
    "\n",
    "teams_stats"
   ]
  }
 ],
 "metadata": {
  "kernelspec": {
   "display_name": "selenium",
   "language": "python",
   "name": "selenium"
  },
  "language_info": {
   "codemirror_mode": {
    "name": "ipython",
    "version": 3
   },
   "file_extension": ".py",
   "mimetype": "text/x-python",
   "name": "python",
   "nbconvert_exporter": "python",
   "pygments_lexer": "ipython3",
   "version": "3.8.12"
  }
 },
 "nbformat": 4,
 "nbformat_minor": 5
}
