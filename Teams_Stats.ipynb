{
 "cells": [
  {
   "cell_type": "code",
   "execution_count": 11,
   "id": "9099b765",
   "metadata": {},
   "outputs": [],
   "source": [
    "import requests as req\n",
    "from bs4 import BeautifulSoup as bs\n",
    "import requests as req\n",
    "import pandas as pd"
   ]
  },
  {
   "cell_type": "markdown",
   "id": "6b45df3c",
   "metadata": {},
   "source": [
    "# Web Scrapping (ESPN)"
   ]
  },
  {
   "cell_type": "code",
   "execution_count": 3,
   "id": "2958783f",
   "metadata": {},
   "outputs": [],
   "source": [
    "url = 'https://www.espn.com/soccer/standings/_/league/ESP.1/season/2019'"
   ]
  },
  {
   "cell_type": "code",
   "execution_count": 6,
   "id": "fdbb9ccb",
   "metadata": {},
   "outputs": [],
   "source": [
    "html=req.get(url).content"
   ]
  },
  {
   "cell_type": "code",
   "execution_count": 58,
   "id": "af1551f2",
   "metadata": {},
   "outputs": [],
   "source": [
    "soup=bs(html, 'html.parser')"
   ]
  },
  {
   "cell_type": "code",
   "execution_count": 25,
   "id": "9e59036d",
   "metadata": {},
   "outputs": [],
   "source": [
    "table_html = soup.find_all('div', class_=\"flex\")"
   ]
  },
  {
   "cell_type": "code",
   "execution_count": 126,
   "id": "f6abe4aa",
   "metadata": {},
   "outputs": [],
   "source": [
    "col_names = []\n",
    "\n",
    "for e in table_html:\n",
    "    if e.tr:\n",
    "        col_names.append(e.tr.text)"
   ]
  },
  {
   "cell_type": "code",
   "execution_count": 127,
   "id": "81b6ebcb",
   "metadata": {},
   "outputs": [
    {
     "data": {
      "text/plain": [
       "['2019-2020']"
      ]
     },
     "execution_count": 127,
     "metadata": {},
     "output_type": "execute_result"
    }
   ],
   "source": [
    "col_names"
   ]
  },
  {
   "cell_type": "code",
   "execution_count": 117,
   "id": "24fb9fbb",
   "metadata": {},
   "outputs": [],
   "source": [
    "# El nombre de la primera columna (index) tiene diferente etiquetado html que el resto de nombres de columnas (tienen un div de otra clase).\n",
    "# Tenemos que acceder al html del resto de las columnas ('div', class_=\"Table__Scroller\").\n",
    "\n",
    "table_html_2 = soup.find_all('div', class_=\"Table__Scroller\")"
   ]
  },
  {
   "cell_type": "code",
   "execution_count": 122,
   "id": "8b6127c9",
   "metadata": {},
   "outputs": [],
   "source": [
    "# Ya tenemos el div completo. Ahra tenemos que acceder al nombre de las columnas (texto de <a> dentro del <div>).\n",
    "col_html = []\n",
    "for e in table_html_2:\n",
    "    col_html.append(e.find_all('a'))\n",
    "       "
   ]
  },
  {
   "cell_type": "code",
   "execution_count": 123,
   "id": "3be20bf5",
   "metadata": {},
   "outputs": [
    {
     "data": {
      "text/plain": [
       "[[<a class=\"AnchorLink\" href=\"/soccer/standings/_/league/ESP.1/sort/gamesplayed/dir/desc/season/2019\" tabindex=\"0\">GP</a>,\n",
       "  <a class=\"AnchorLink\" href=\"/soccer/standings/_/league/ESP.1/sort/wins/dir/desc/season/2019\" tabindex=\"0\">W</a>,\n",
       "  <a class=\"AnchorLink\" href=\"/soccer/standings/_/league/ESP.1/sort/ties/dir/desc/season/2019\" tabindex=\"0\">D</a>,\n",
       "  <a class=\"AnchorLink\" href=\"/soccer/standings/_/league/ESP.1/sort/losses/dir/asc/season/2019\" tabindex=\"0\">L</a>,\n",
       "  <a class=\"AnchorLink\" href=\"/soccer/standings/_/league/ESP.1/sort/pointsfor/dir/desc/season/2019\" tabindex=\"0\">F</a>,\n",
       "  <a class=\"AnchorLink\" href=\"/soccer/standings/_/league/ESP.1/sort/pointsagainst/dir/asc/season/2019\" tabindex=\"0\">A</a>,\n",
       "  <a class=\"AnchorLink\" href=\"/soccer/standings/_/league/ESP.1/sort/pointdifferential/dir/desc/season/2019\" tabindex=\"0\">GD</a>,\n",
       "  <a class=\"AnchorLink\" href=\"/soccer/standings/_/league/ESP.1/sort/points/dir/desc/season/2019\" tabindex=\"0\">P</a>]]"
      ]
     },
     "execution_count": 123,
     "metadata": {},
     "output_type": "execute_result"
    }
   ],
   "source": [
    "col_html  # Ya tenemos los diferentes tags <a>."
   ]
  },
  {
   "cell_type": "code",
   "execution_count": 128,
   "id": "f3661600",
   "metadata": {},
   "outputs": [],
   "source": [
    "# Accedemos al texto (doble bucle porque 'row_html' es una lista dentro de otra lista (hicimos find_all)).\n",
    "for e in col_html:\n",
    "    for i in e:\n",
    "        col_names.append(i.text)"
   ]
  },
  {
   "cell_type": "code",
   "execution_count": 129,
   "id": "51fced22",
   "metadata": {},
   "outputs": [
    {
     "data": {
      "text/plain": [
       "['2019-2020', 'GP', 'W', 'D', 'L', 'F', 'A', 'GD', 'P']"
      ]
     },
     "execution_count": 129,
     "metadata": {},
     "output_type": "execute_result"
    }
   ],
   "source": [
    "col_names # Ya tenemos los nombres de las columnas (primer paso para ir construyendo nuestro DataFrame)"
   ]
  },
  {
   "cell_type": "markdown",
   "id": "cfdb5eb0",
   "metadata": {},
   "source": [
    "Ahora que ya tenemos el nombre de las columnas, seguimos extrayendo los datos.\n",
    "Como la primera columna (equipos) está estructurada de manera independiente a las otras, debemos hacerlo por separado (primero extraeremos los equipos y luego los valores de la tabla)."
   ]
  },
  {
   "cell_type": "code",
   "execution_count": 131,
   "id": "ceb50017",
   "metadata": {},
   "outputs": [],
   "source": [
    "# Empezamos extrayendo los nombres de los equipos.\n",
    "\n",
    "teams_html = soup.find_all('span', class_=\"hide-mobile\")"
   ]
  },
  {
   "cell_type": "code",
   "execution_count": 268,
   "id": "2140cc7e",
   "metadata": {},
   "outputs": [],
   "source": [
    "teams = []\n",
    "for e in teams_html:\n",
    "    teams.append(e.text)"
   ]
  },
  {
   "cell_type": "code",
   "execution_count": 269,
   "id": "8dc0d054",
   "metadata": {
    "scrolled": true
   },
   "outputs": [
    {
     "data": {
      "text/plain": [
       "['Real Madrid',\n",
       " 'Barcelona',\n",
       " 'Atletico Madrid',\n",
       " 'Sevilla',\n",
       " 'Villarreal',\n",
       " 'Real Sociedad',\n",
       " 'Granada',\n",
       " 'Getafe',\n",
       " 'Valencia',\n",
       " 'Osasuna',\n",
       " 'Athletic Club',\n",
       " 'Levante',\n",
       " 'Real Valladolid',\n",
       " 'Eibar',\n",
       " 'Real Betis',\n",
       " 'Alavés',\n",
       " 'Celta Vigo',\n",
       " 'Leganés',\n",
       " 'Mallorca',\n",
       " 'Espanyol']"
      ]
     },
     "execution_count": 269,
     "metadata": {},
     "output_type": "execute_result"
    }
   ],
   "source": [
    "teams # Ya tenemos los nombres de los equipos (primera columna)"
   ]
  },
  {
   "cell_type": "markdown",
   "id": "7aa83e4b",
   "metadata": {},
   "source": [
    "Ahora que tenemos los nombres de las columnas y los equipos, extraemos los datos de la tabla."
   ]
  },
  {
   "cell_type": "code",
   "execution_count": 152,
   "id": "a21f2f0b",
   "metadata": {},
   "outputs": [],
   "source": [
    "data_html = soup.find_all('tbody', class_= \"Table__TBODY\")"
   ]
  },
  {
   "cell_type": "code",
   "execution_count": 153,
   "id": "074191ea",
   "metadata": {},
   "outputs": [
    {
     "data": {
      "text/plain": [
       "2"
      ]
     },
     "execution_count": 153,
     "metadata": {},
     "output_type": "execute_result"
    }
   ],
   "source": [
    "len(data_html)"
   ]
  },
  {
   "cell_type": "code",
   "execution_count": 181,
   "id": "bc96d572",
   "metadata": {},
   "outputs": [],
   "source": [
    "data_html2 = data_html[1].find_all('tr') # Seleccionamos los 'tr' en el segundo elemento de data_html (es el 'tbody' que nos interesa)."
   ]
  },
  {
   "cell_type": "code",
   "execution_count": 215,
   "id": "9caf90e4",
   "metadata": {
    "scrolled": true
   },
   "outputs": [
    {
     "data": {
      "text/plain": [
       "<tr class=\"filled Table__TR Table__TR--sm Table__even\" data-idx=\"1\"><td class=\"Table__TD\"><span class=\"stat-cell\">38</span></td><td class=\"Table__TD\"><span class=\"stat-cell\">25</span></td><td class=\"Table__TD\"><span class=\"stat-cell\">7</span></td><td class=\"Table__TD\"><span class=\"stat-cell\">6</span></td><td class=\"Table__TD\"><span class=\"stat-cell\">86</span></td><td class=\"Table__TD\"><span class=\"stat-cell\">38</span></td><td class=\"Table__TD\"><span class=\"stat-cell clr-positive\">+48</span></td><td class=\"Table__TD\"><span class=\"stat-cell\">82</span></td></tr>"
      ]
     },
     "execution_count": 215,
     "metadata": {},
     "output_type": "execute_result"
    }
   ],
   "source": [
    "# Primero hacemos la prueba para un elemento.\n",
    "\n",
    "data_html2[1]"
   ]
  },
  {
   "cell_type": "code",
   "execution_count": 232,
   "id": "44d61aad",
   "metadata": {},
   "outputs": [
    {
     "data": {
      "text/plain": [
       "[<td class=\"Table__TD\"><span class=\"stat-cell\">38</span></td>,\n",
       " <td class=\"Table__TD\"><span class=\"stat-cell\">25</span></td>,\n",
       " <td class=\"Table__TD\"><span class=\"stat-cell\">7</span></td>,\n",
       " <td class=\"Table__TD\"><span class=\"stat-cell\">6</span></td>,\n",
       " <td class=\"Table__TD\"><span class=\"stat-cell\">86</span></td>,\n",
       " <td class=\"Table__TD\"><span class=\"stat-cell\">38</span></td>,\n",
       " <td class=\"Table__TD\"><span class=\"stat-cell clr-positive\">+48</span></td>,\n",
       " <td class=\"Table__TD\"><span class=\"stat-cell\">82</span></td>]"
      ]
     },
     "execution_count": 232,
     "metadata": {},
     "output_type": "execute_result"
    }
   ],
   "source": [
    "data_html2[1].find_all('td')"
   ]
  },
  {
   "cell_type": "code",
   "execution_count": 217,
   "id": "672bcd10",
   "metadata": {},
   "outputs": [
    {
     "data": {
      "text/plain": [
       "['38', '25', '7', '6', '86', '38', '+48', '82']"
      ]
     },
     "execution_count": 217,
     "metadata": {},
     "output_type": "execute_result"
    }
   ],
   "source": [
    "[e.text for e in data_html2[1].find_all('td')]  # Comprobamos que funciona así que aplicamos el proceso anterior a todo el contenido de la tabla."
   ]
  },
  {
   "cell_type": "code",
   "execution_count": 241,
   "id": "cab05d87",
   "metadata": {},
   "outputs": [],
   "source": [
    "# Primero creamos una lista con todos los 'td' en todos los elemento del 'tbody'.\n",
    "\n",
    "data_prov = []\n",
    "for e in data_html2:\n",
    "    data_prov.append(e.find_all('td'))"
   ]
  },
  {
   "cell_type": "code",
   "execution_count": 242,
   "id": "09046b9c",
   "metadata": {
    "scrolled": true
   },
   "outputs": [],
   "source": [
    "# Aplicamos el doble bucle sobre la lista previamente creada.\n",
    "\n",
    "# El doble bucle con la lista 'prov' nos permite añadir a data_def listas con los valores de cada fila.\n",
    "# Es decir, data_def será una lista de listas (podemos meterlo como data en un DataFrame).\n",
    "#Si no hacemos esto, lo que tendríamos es una única lista con todos los valores y esto no es lo que queremos.\n",
    "\n",
    "data_def = []\n",
    "\n",
    "for e in data_prov:\n",
    "    prov = []\n",
    "    \n",
    "    for i in e:\n",
    "        prov.append(i.text)\n",
    "        \n",
    "    data_def.append(prov)"
   ]
  },
  {
   "cell_type": "code",
   "execution_count": 257,
   "id": "63696d79",
   "metadata": {},
   "outputs": [
    {
     "data": {
      "text/plain": [
       "[['38', '26', '9', '3', '70', '25', '+45', '87'],\n",
       " ['38', '25', '7', '6', '86', '38', '+48', '82'],\n",
       " ['38', '18', '16', '4', '51', '27', '+24', '70'],\n",
       " ['38', '19', '13', '6', '54', '34', '+20', '70'],\n",
       " ['38', '18', '6', '14', '63', '49', '+14', '60'],\n",
       " ['38', '16', '8', '14', '56', '48', '+8', '56'],\n",
       " ['38', '16', '8', '14', '52', '45', '+7', '56'],\n",
       " ['38', '14', '12', '12', '43', '37', '+6', '54'],\n",
       " ['38', '14', '11', '13', '46', '53', '-7', '53'],\n",
       " ['38', '13', '13', '12', '46', '54', '-8', '52'],\n",
       " ['38', '13', '12', '13', '41', '38', '+3', '51'],\n",
       " ['38', '14', '7', '17', '47', '53', '-6', '49'],\n",
       " ['38', '9', '15', '14', '32', '43', '-11', '42'],\n",
       " ['38', '11', '9', '18', '39', '56', '-17', '42'],\n",
       " ['38', '10', '11', '17', '48', '60', '-12', '41'],\n",
       " ['38', '10', '9', '19', '34', '59', '-25', '39'],\n",
       " ['38', '7', '16', '15', '37', '49', '-12', '37'],\n",
       " ['38', '8', '12', '18', '30', '51', '-21', '36'],\n",
       " ['38', '9', '6', '23', '40', '65', '-25', '33'],\n",
       " ['38', '5', '10', '23', '27', '58', '-31', '25']]"
      ]
     },
     "execution_count": 257,
     "metadata": {},
     "output_type": "execute_result"
    }
   ],
   "source": [
    "# Observamos nuestro data (cada elemento de la lista, es una lista que contiene los valores para una fila).\n",
    "\n",
    "data_def"
   ]
  },
  {
   "cell_type": "markdown",
   "id": "63980869",
   "metadata": {},
   "source": [
    "Generamos el DataFrame a partir del scrapeo de ESPN."
   ]
  },
  {
   "cell_type": "code",
   "execution_count": 246,
   "id": "1c7914a8",
   "metadata": {},
   "outputs": [
    {
     "data": {
      "text/plain": [
       "['2019-2020', 'GP', 'W', 'D', 'L', 'F', 'A', 'GD', 'P']"
      ]
     },
     "execution_count": 246,
     "metadata": {},
     "output_type": "execute_result"
    }
   ],
   "source": [
    "col_names"
   ]
  },
  {
   "cell_type": "code",
   "execution_count": 270,
   "id": "c3ab5f8c",
   "metadata": {
    "scrolled": true
   },
   "outputs": [
    {
     "data": {
      "text/plain": [
       "['Real Madrid',\n",
       " 'Barcelona',\n",
       " 'Atletico Madrid',\n",
       " 'Sevilla',\n",
       " 'Villarreal',\n",
       " 'Real Sociedad',\n",
       " 'Granada',\n",
       " 'Getafe',\n",
       " 'Valencia',\n",
       " 'Osasuna',\n",
       " 'Athletic Club',\n",
       " 'Levante',\n",
       " 'Real Valladolid',\n",
       " 'Eibar',\n",
       " 'Real Betis',\n",
       " 'Alavés',\n",
       " 'Celta Vigo',\n",
       " 'Leganés',\n",
       " 'Mallorca',\n",
       " 'Espanyol']"
      ]
     },
     "execution_count": 270,
     "metadata": {},
     "output_type": "execute_result"
    }
   ],
   "source": [
    "teams # Será el index de nuestro DataFrame"
   ]
  },
  {
   "cell_type": "code",
   "execution_count": 274,
   "id": "21472ec0",
   "metadata": {},
   "outputs": [
    {
     "data": {
      "text/plain": [
       "False"
      ]
     },
     "execution_count": 274,
     "metadata": {},
     "output_type": "execute_result"
    }
   ],
   "source": [
    "len(col_names)==len(data_def[0])   # No coincide --> No podemos generar el DataFrame."
   ]
  },
  {
   "cell_type": "code",
   "execution_count": 275,
   "id": "9d4c9b8d",
   "metadata": {},
   "outputs": [
    {
     "data": {
      "text/plain": [
       "True"
      ]
     },
     "execution_count": 275,
     "metadata": {},
     "output_type": "execute_result"
    }
   ],
   "source": [
    "len(teams)==len(data_def)     # Sí coincide así que no ha habido fallos (hay tantos equipos como registros de valores (filas))."
   ]
  },
  {
   "cell_type": "code",
   "execution_count": 273,
   "id": "70e4f65a",
   "metadata": {},
   "outputs": [
    {
     "data": {
      "text/plain": [
       "\"El problema es ahora tenemos una columna de más en col_names ('2019-2020').\\nTenemos que eliminar este valor y generar el DataFrame para luego añadir una columna que recoja los equipos y actúe como index.\\n\\nHemos cometido un fallo al añadir 2019-2020 a col_names.\\nSoluciones:\\n    - Podemos volver a ejecutar el código más arriba para no incluir '2019-2020' (sería lo ideal, haciéndolo con cuidado).\\n    - Podemos eliminar este valor de col_names y generar el DataFrame (sin tocar nada del código anterior)\""
      ]
     },
     "execution_count": 273,
     "metadata": {},
     "output_type": "execute_result"
    }
   ],
   "source": [
    "'''El problema es ahora tenemos una columna de más en col_names ('2019-2020').\n",
    "Tenemos que eliminar este valor y generar el DataFrame para luego añadir una columna que recoja los equipos y actúe como index.\n",
    "\n",
    "Hemos cometido un fallo al añadir 2019-2020 a col_names.\n",
    "Soluciones:\n",
    "    - Podemos volver a ejecutar el código más arriba para no incluir '2019-2020' (sería lo ideal, haciéndolo con cuidado).\n",
    "    - Podemos eliminar este valor de col_names y generar el DataFrame (sin tocar nada del código anterior)'''"
   ]
  }
 ],
 "metadata": {
  "kernelspec": {
   "display_name": "selenium",
   "language": "python",
   "name": "selenium"
  },
  "language_info": {
   "codemirror_mode": {
    "name": "ipython",
    "version": 3
   },
   "file_extension": ".py",
   "mimetype": "text/x-python",
   "name": "python",
   "nbconvert_exporter": "python",
   "pygments_lexer": "ipython3",
   "version": "3.8.12"
  }
 },
 "nbformat": 4,
 "nbformat_minor": 5
}
