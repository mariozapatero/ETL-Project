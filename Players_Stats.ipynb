{
 "cells": [
  {
   "cell_type": "code",
   "execution_count": 2,
   "id": "44dfa7fa",
   "metadata": {},
   "outputs": [],
   "source": [
    "import pandas as pd"
   ]
  },
  {
   "cell_type": "code",
   "execution_count": 30,
   "id": "2582f49f",
   "metadata": {},
   "outputs": [],
   "source": [
    "players_df = pd.read_csv('data/laliga_player_stats_english.csv')"
   ]
  },
  {
   "cell_type": "code",
   "execution_count": 31,
   "id": "dcd50359",
   "metadata": {},
   "outputs": [
    {
     "data": {
      "text/html": [
       "<div>\n",
       "<style scoped>\n",
       "    .dataframe tbody tr th:only-of-type {\n",
       "        vertical-align: middle;\n",
       "    }\n",
       "\n",
       "    .dataframe tbody tr th {\n",
       "        vertical-align: top;\n",
       "    }\n",
       "\n",
       "    .dataframe thead th {\n",
       "        text-align: right;\n",
       "    }\n",
       "</style>\n",
       "<table border=\"1\" class=\"dataframe\">\n",
       "  <thead>\n",
       "    <tr style=\"text-align: right;\">\n",
       "      <th></th>\n",
       "      <th>Team</th>\n",
       "      <th>Position</th>\n",
       "      <th>Shirt number</th>\n",
       "      <th>Name</th>\n",
       "      <th>Minutes played</th>\n",
       "      <th>Games played</th>\n",
       "      <th>Percentage of games played</th>\n",
       "      <th>Full games played</th>\n",
       "      <th>Percentage of full games played</th>\n",
       "      <th>Games started</th>\n",
       "      <th>...</th>\n",
       "      <th>Corners</th>\n",
       "      <th>Tackles.1</th>\n",
       "      <th>Duels</th>\n",
       "      <th>Man-to-man duels</th>\n",
       "      <th>Aerial duels</th>\n",
       "      <th>Passes</th>\n",
       "      <th>Short passes</th>\n",
       "      <th>Long passes</th>\n",
       "      <th>Through balls</th>\n",
       "      <th>Goals scored per attempt</th>\n",
       "    </tr>\n",
       "  </thead>\n",
       "  <tbody>\n",
       "    <tr>\n",
       "      <th>0</th>\n",
       "      <td>Athletic Club</td>\n",
       "      <td>Goalkeeper</td>\n",
       "      <td>NaN</td>\n",
       "      <td>Hodei Oleaga</td>\n",
       "      <td>0.000</td>\n",
       "      <td>0</td>\n",
       "      <td>0.00%</td>\n",
       "      <td>0</td>\n",
       "      <td>0.00%</td>\n",
       "      <td>0</td>\n",
       "      <td>...</td>\n",
       "      <td>0</td>\n",
       "      <td>0</td>\n",
       "      <td>0</td>\n",
       "      <td>0</td>\n",
       "      <td>0</td>\n",
       "      <td>0.0</td>\n",
       "      <td>0.0</td>\n",
       "      <td>0</td>\n",
       "      <td>0</td>\n",
       "      <td>0</td>\n",
       "    </tr>\n",
       "    <tr>\n",
       "      <th>1</th>\n",
       "      <td>Athletic Club</td>\n",
       "      <td>Goalkeeper</td>\n",
       "      <td>1.0</td>\n",
       "      <td>A. Remiro</td>\n",
       "      <td>0.000</td>\n",
       "      <td>0</td>\n",
       "      <td>0.00%</td>\n",
       "      <td>0</td>\n",
       "      <td>0.00%</td>\n",
       "      <td>0</td>\n",
       "      <td>...</td>\n",
       "      <td>0</td>\n",
       "      <td>0</td>\n",
       "      <td>0</td>\n",
       "      <td>0</td>\n",
       "      <td>0</td>\n",
       "      <td>0.0</td>\n",
       "      <td>0.0</td>\n",
       "      <td>0</td>\n",
       "      <td>0</td>\n",
       "      <td>0</td>\n",
       "    </tr>\n",
       "    <tr>\n",
       "      <th>2</th>\n",
       "      <td>Athletic Club</td>\n",
       "      <td>Goalkeeper</td>\n",
       "      <td>13.0</td>\n",
       "      <td>Herrerín</td>\n",
       "      <td>2.790</td>\n",
       "      <td>31</td>\n",
       "      <td>82.00%</td>\n",
       "      <td>31</td>\n",
       "      <td>82.00%</td>\n",
       "      <td>31</td>\n",
       "      <td>...</td>\n",
       "      <td>0</td>\n",
       "      <td>0</td>\n",
       "      <td>25</td>\n",
       "      <td>6</td>\n",
       "      <td>19</td>\n",
       "      <td>887.0</td>\n",
       "      <td>128.0</td>\n",
       "      <td>759</td>\n",
       "      <td>1</td>\n",
       "      <td>0</td>\n",
       "    </tr>\n",
       "    <tr>\n",
       "      <th>3</th>\n",
       "      <td>Athletic Club</td>\n",
       "      <td>Goalkeeper</td>\n",
       "      <td>25.0</td>\n",
       "      <td>Unai Simón</td>\n",
       "      <td>630.000</td>\n",
       "      <td>7</td>\n",
       "      <td>18.00%</td>\n",
       "      <td>7</td>\n",
       "      <td>18.00%</td>\n",
       "      <td>7</td>\n",
       "      <td>...</td>\n",
       "      <td>0</td>\n",
       "      <td>0</td>\n",
       "      <td>3</td>\n",
       "      <td>2</td>\n",
       "      <td>1</td>\n",
       "      <td>155.0</td>\n",
       "      <td>49.0</td>\n",
       "      <td>106</td>\n",
       "      <td>0</td>\n",
       "      <td>0</td>\n",
       "    </tr>\n",
       "    <tr>\n",
       "      <th>4</th>\n",
       "      <td>Athletic Club</td>\n",
       "      <td>Defender</td>\n",
       "      <td>3.0</td>\n",
       "      <td>Núñez</td>\n",
       "      <td>1.063</td>\n",
       "      <td>12</td>\n",
       "      <td>32.00%</td>\n",
       "      <td>11</td>\n",
       "      <td>29.00%</td>\n",
       "      <td>11</td>\n",
       "      <td>...</td>\n",
       "      <td>0</td>\n",
       "      <td>15</td>\n",
       "      <td>107</td>\n",
       "      <td>38</td>\n",
       "      <td>69</td>\n",
       "      <td>536.0</td>\n",
       "      <td>457.0</td>\n",
       "      <td>78</td>\n",
       "      <td>1</td>\n",
       "      <td>0</td>\n",
       "    </tr>\n",
       "  </tbody>\n",
       "</table>\n",
       "<p>5 rows × 62 columns</p>\n",
       "</div>"
      ],
      "text/plain": [
       "            Team    Position  Shirt number          Name  Minutes played  \\\n",
       "0  Athletic Club  Goalkeeper           NaN  Hodei Oleaga           0.000   \n",
       "1  Athletic Club  Goalkeeper           1.0     A. Remiro           0.000   \n",
       "2  Athletic Club  Goalkeeper          13.0      Herrerín           2.790   \n",
       "3  Athletic Club  Goalkeeper          25.0    Unai Simón         630.000   \n",
       "4  Athletic Club    Defender           3.0         Núñez           1.063   \n",
       "\n",
       "   Games played Percentage of games played  Full games played  \\\n",
       "0             0                      0.00%                  0   \n",
       "1             0                      0.00%                  0   \n",
       "2            31                     82.00%                 31   \n",
       "3             7                     18.00%                  7   \n",
       "4            12                     32.00%                 11   \n",
       "\n",
       "  Percentage of full games played  Games started  ... Corners  Tackles.1  \\\n",
       "0                           0.00%              0  ...       0          0   \n",
       "1                           0.00%              0  ...       0          0   \n",
       "2                          82.00%             31  ...       0          0   \n",
       "3                          18.00%              7  ...       0          0   \n",
       "4                          29.00%             11  ...       0         15   \n",
       "\n",
       "  Duels  Man-to-man duels  Aerial duels  Passes  Short passes  Long passes  \\\n",
       "0     0                 0             0     0.0           0.0            0   \n",
       "1     0                 0             0     0.0           0.0            0   \n",
       "2    25                 6            19   887.0         128.0          759   \n",
       "3     3                 2             1   155.0          49.0          106   \n",
       "4   107                38            69   536.0         457.0           78   \n",
       "\n",
       "   Through balls  Goals scored per attempt  \n",
       "0              0                         0  \n",
       "1              0                         0  \n",
       "2              1                         0  \n",
       "3              0                         0  \n",
       "4              1                         0  \n",
       "\n",
       "[5 rows x 62 columns]"
      ]
     },
     "metadata": {},
     "output_type": "display_data"
    }
   ],
   "source": [
    "display(players_df.head())"
   ]
  },
  {
   "cell_type": "code",
   "execution_count": 38,
   "id": "02aa6df3",
   "metadata": {
    "scrolled": true
   },
   "outputs": [
    {
     "data": {
      "text/plain": [
       "(556, 62)"
      ]
     },
     "execution_count": 38,
     "metadata": {},
     "output_type": "execute_result"
    }
   ],
   "source": [
    "players_df.shape"
   ]
  },
  {
   "cell_type": "code",
   "execution_count": 40,
   "id": "95020448",
   "metadata": {},
   "outputs": [
    {
     "data": {
      "text/plain": [
       "34472"
      ]
     },
     "execution_count": 40,
     "metadata": {},
     "output_type": "execute_result"
    }
   ],
   "source": [
    "players_df.size"
   ]
  },
  {
   "cell_type": "markdown",
   "id": "c0835ec8",
   "metadata": {},
   "source": [
    "# Limpieza"
   ]
  },
  {
   "cell_type": "markdown",
   "id": "c94a16a6",
   "metadata": {},
   "source": [
    "Comenzamos por la columna 'Team', sustituyendo los espacios por \"_\"."
   ]
  },
  {
   "cell_type": "code",
   "execution_count": 36,
   "id": "d1c3c01c",
   "metadata": {},
   "outputs": [
    {
     "data": {
      "text/plain": [
       "array(['Athletic Club', 'Atlético de Madrid', 'CD Leganés', 'D. Alavés',\n",
       "       'FC Barcelona', 'Getafe CF', 'Girona FC', 'Levante UD',\n",
       "       'R. Valladolid CF', 'Rayo Vallecano', 'RC Celta', 'RCD Espanyol',\n",
       "       'Real Betis', 'Real Madrid', 'Real Sociedad', 'SD Eibar',\n",
       "       'SD Huesca', 'Sevilla FC', 'Valencia CF', 'Villarreal CF'],\n",
       "      dtype=object)"
      ]
     },
     "execution_count": 36,
     "metadata": {},
     "output_type": "execute_result"
    }
   ],
   "source": [
    "players_df['Team'].unique()"
   ]
  }
 ],
 "metadata": {
  "kernelspec": {
   "display_name": "ironhack",
   "language": "python",
   "name": "ironhack"
  },
  "language_info": {
   "codemirror_mode": {
    "name": "ipython",
    "version": 3
   },
   "file_extension": ".py",
   "mimetype": "text/x-python",
   "name": "python",
   "nbconvert_exporter": "python",
   "pygments_lexer": "ipython3",
   "version": "3.8.10"
  }
 },
 "nbformat": 4,
 "nbformat_minor": 5
}
