{
 "cells": [
  {
   "cell_type": "code",
   "execution_count": 154,
   "id": "44dfa7fa",
   "metadata": {},
   "outputs": [],
   "source": [
    "import pandas as pd\n",
    "import numpy as np"
   ]
  },
  {
   "cell_type": "code",
   "execution_count": 155,
   "id": "2582f49f",
   "metadata": {},
   "outputs": [],
   "source": [
    "players_df = pd.read_csv('data/laliga_player_stats_english.csv')"
   ]
  },
  {
   "cell_type": "code",
   "execution_count": 156,
   "id": "dcd50359",
   "metadata": {},
   "outputs": [
    {
     "data": {
      "text/html": [
       "<div>\n",
       "<style scoped>\n",
       "    .dataframe tbody tr th:only-of-type {\n",
       "        vertical-align: middle;\n",
       "    }\n",
       "\n",
       "    .dataframe tbody tr th {\n",
       "        vertical-align: top;\n",
       "    }\n",
       "\n",
       "    .dataframe thead th {\n",
       "        text-align: right;\n",
       "    }\n",
       "</style>\n",
       "<table border=\"1\" class=\"dataframe\">\n",
       "  <thead>\n",
       "    <tr style=\"text-align: right;\">\n",
       "      <th></th>\n",
       "      <th>Team</th>\n",
       "      <th>Position</th>\n",
       "      <th>Shirt number</th>\n",
       "      <th>Name</th>\n",
       "      <th>Minutes played</th>\n",
       "      <th>Games played</th>\n",
       "      <th>Percentage of games played</th>\n",
       "      <th>Full games played</th>\n",
       "      <th>Percentage of full games played</th>\n",
       "      <th>Games started</th>\n",
       "      <th>...</th>\n",
       "      <th>Corners</th>\n",
       "      <th>Tackles.1</th>\n",
       "      <th>Duels</th>\n",
       "      <th>Man-to-man duels</th>\n",
       "      <th>Aerial duels</th>\n",
       "      <th>Passes</th>\n",
       "      <th>Short passes</th>\n",
       "      <th>Long passes</th>\n",
       "      <th>Through balls</th>\n",
       "      <th>Goals scored per attempt</th>\n",
       "    </tr>\n",
       "  </thead>\n",
       "  <tbody>\n",
       "    <tr>\n",
       "      <th>0</th>\n",
       "      <td>Athletic Club</td>\n",
       "      <td>Goalkeeper</td>\n",
       "      <td>NaN</td>\n",
       "      <td>Hodei Oleaga</td>\n",
       "      <td>0.000</td>\n",
       "      <td>0</td>\n",
       "      <td>0.00%</td>\n",
       "      <td>0</td>\n",
       "      <td>0.00%</td>\n",
       "      <td>0</td>\n",
       "      <td>...</td>\n",
       "      <td>0</td>\n",
       "      <td>0</td>\n",
       "      <td>0</td>\n",
       "      <td>0</td>\n",
       "      <td>0</td>\n",
       "      <td>0.0</td>\n",
       "      <td>0.0</td>\n",
       "      <td>0</td>\n",
       "      <td>0</td>\n",
       "      <td>0</td>\n",
       "    </tr>\n",
       "    <tr>\n",
       "      <th>1</th>\n",
       "      <td>Athletic Club</td>\n",
       "      <td>Goalkeeper</td>\n",
       "      <td>1.0</td>\n",
       "      <td>A. Remiro</td>\n",
       "      <td>0.000</td>\n",
       "      <td>0</td>\n",
       "      <td>0.00%</td>\n",
       "      <td>0</td>\n",
       "      <td>0.00%</td>\n",
       "      <td>0</td>\n",
       "      <td>...</td>\n",
       "      <td>0</td>\n",
       "      <td>0</td>\n",
       "      <td>0</td>\n",
       "      <td>0</td>\n",
       "      <td>0</td>\n",
       "      <td>0.0</td>\n",
       "      <td>0.0</td>\n",
       "      <td>0</td>\n",
       "      <td>0</td>\n",
       "      <td>0</td>\n",
       "    </tr>\n",
       "    <tr>\n",
       "      <th>2</th>\n",
       "      <td>Athletic Club</td>\n",
       "      <td>Goalkeeper</td>\n",
       "      <td>13.0</td>\n",
       "      <td>Herrerín</td>\n",
       "      <td>2.790</td>\n",
       "      <td>31</td>\n",
       "      <td>82.00%</td>\n",
       "      <td>31</td>\n",
       "      <td>82.00%</td>\n",
       "      <td>31</td>\n",
       "      <td>...</td>\n",
       "      <td>0</td>\n",
       "      <td>0</td>\n",
       "      <td>25</td>\n",
       "      <td>6</td>\n",
       "      <td>19</td>\n",
       "      <td>887.0</td>\n",
       "      <td>128.0</td>\n",
       "      <td>759</td>\n",
       "      <td>1</td>\n",
       "      <td>0</td>\n",
       "    </tr>\n",
       "    <tr>\n",
       "      <th>3</th>\n",
       "      <td>Athletic Club</td>\n",
       "      <td>Goalkeeper</td>\n",
       "      <td>25.0</td>\n",
       "      <td>Unai Simón</td>\n",
       "      <td>630.000</td>\n",
       "      <td>7</td>\n",
       "      <td>18.00%</td>\n",
       "      <td>7</td>\n",
       "      <td>18.00%</td>\n",
       "      <td>7</td>\n",
       "      <td>...</td>\n",
       "      <td>0</td>\n",
       "      <td>0</td>\n",
       "      <td>3</td>\n",
       "      <td>2</td>\n",
       "      <td>1</td>\n",
       "      <td>155.0</td>\n",
       "      <td>49.0</td>\n",
       "      <td>106</td>\n",
       "      <td>0</td>\n",
       "      <td>0</td>\n",
       "    </tr>\n",
       "    <tr>\n",
       "      <th>4</th>\n",
       "      <td>Athletic Club</td>\n",
       "      <td>Defender</td>\n",
       "      <td>3.0</td>\n",
       "      <td>Núñez</td>\n",
       "      <td>1.063</td>\n",
       "      <td>12</td>\n",
       "      <td>32.00%</td>\n",
       "      <td>11</td>\n",
       "      <td>29.00%</td>\n",
       "      <td>11</td>\n",
       "      <td>...</td>\n",
       "      <td>0</td>\n",
       "      <td>15</td>\n",
       "      <td>107</td>\n",
       "      <td>38</td>\n",
       "      <td>69</td>\n",
       "      <td>536.0</td>\n",
       "      <td>457.0</td>\n",
       "      <td>78</td>\n",
       "      <td>1</td>\n",
       "      <td>0</td>\n",
       "    </tr>\n",
       "  </tbody>\n",
       "</table>\n",
       "<p>5 rows × 62 columns</p>\n",
       "</div>"
      ],
      "text/plain": [
       "            Team    Position  Shirt number          Name  Minutes played  \\\n",
       "0  Athletic Club  Goalkeeper           NaN  Hodei Oleaga           0.000   \n",
       "1  Athletic Club  Goalkeeper           1.0     A. Remiro           0.000   \n",
       "2  Athletic Club  Goalkeeper          13.0      Herrerín           2.790   \n",
       "3  Athletic Club  Goalkeeper          25.0    Unai Simón         630.000   \n",
       "4  Athletic Club    Defender           3.0         Núñez           1.063   \n",
       "\n",
       "   Games played Percentage of games played  Full games played  \\\n",
       "0             0                      0.00%                  0   \n",
       "1             0                      0.00%                  0   \n",
       "2            31                     82.00%                 31   \n",
       "3             7                     18.00%                  7   \n",
       "4            12                     32.00%                 11   \n",
       "\n",
       "  Percentage of full games played  Games started  ... Corners  Tackles.1  \\\n",
       "0                           0.00%              0  ...       0          0   \n",
       "1                           0.00%              0  ...       0          0   \n",
       "2                          82.00%             31  ...       0          0   \n",
       "3                          18.00%              7  ...       0          0   \n",
       "4                          29.00%             11  ...       0         15   \n",
       "\n",
       "  Duels  Man-to-man duels  Aerial duels  Passes  Short passes  Long passes  \\\n",
       "0     0                 0             0     0.0           0.0            0   \n",
       "1     0                 0             0     0.0           0.0            0   \n",
       "2    25                 6            19   887.0         128.0          759   \n",
       "3     3                 2             1   155.0          49.0          106   \n",
       "4   107                38            69   536.0         457.0           78   \n",
       "\n",
       "   Through balls  Goals scored per attempt  \n",
       "0              0                         0  \n",
       "1              0                         0  \n",
       "2              1                         0  \n",
       "3              0                         0  \n",
       "4              1                         0  \n",
       "\n",
       "[5 rows x 62 columns]"
      ]
     },
     "metadata": {},
     "output_type": "display_data"
    }
   ],
   "source": [
    "display(players_df.head())"
   ]
  },
  {
   "cell_type": "code",
   "execution_count": 157,
   "id": "02aa6df3",
   "metadata": {
    "scrolled": true
   },
   "outputs": [
    {
     "data": {
      "text/plain": [
       "(556, 62)"
      ]
     },
     "execution_count": 157,
     "metadata": {},
     "output_type": "execute_result"
    }
   ],
   "source": [
    "players_df.shape"
   ]
  },
  {
   "cell_type": "code",
   "execution_count": 158,
   "id": "95020448",
   "metadata": {
    "scrolled": true
   },
   "outputs": [
    {
     "data": {
      "text/plain": [
       "34472"
      ]
     },
     "execution_count": 158,
     "metadata": {},
     "output_type": "execute_result"
    }
   ],
   "source": [
    "players_df.size"
   ]
  },
  {
   "cell_type": "markdown",
   "id": "c0835ec8",
   "metadata": {},
   "source": [
    "# Limpieza"
   ]
  },
  {
   "cell_type": "markdown",
   "id": "c036446a",
   "metadata": {},
   "source": [
    "Antes de nada cambiamos el nombre de las columnas para poder trabajar con ellos sin problemas."
   ]
  },
  {
   "cell_type": "code",
   "execution_count": 160,
   "id": "a9d9481f",
   "metadata": {},
   "outputs": [],
   "source": [
    "for e in players_df.columns:\n",
    "    players_df = players_df.rename(columns={e:e.lower().replace(' ', '_')})"
   ]
  },
  {
   "cell_type": "code",
   "execution_count": 161,
   "id": "33377491",
   "metadata": {},
   "outputs": [
    {
     "data": {
      "text/html": [
       "<div>\n",
       "<style scoped>\n",
       "    .dataframe tbody tr th:only-of-type {\n",
       "        vertical-align: middle;\n",
       "    }\n",
       "\n",
       "    .dataframe tbody tr th {\n",
       "        vertical-align: top;\n",
       "    }\n",
       "\n",
       "    .dataframe thead th {\n",
       "        text-align: right;\n",
       "    }\n",
       "</style>\n",
       "<table border=\"1\" class=\"dataframe\">\n",
       "  <thead>\n",
       "    <tr style=\"text-align: right;\">\n",
       "      <th></th>\n",
       "      <th>team</th>\n",
       "      <th>position</th>\n",
       "      <th>shirt_number</th>\n",
       "      <th>name</th>\n",
       "      <th>minutes_played</th>\n",
       "      <th>games_played</th>\n",
       "      <th>percentage_of_games_played</th>\n",
       "      <th>full_games_played</th>\n",
       "      <th>percentage_of_full_games_played</th>\n",
       "      <th>games_started</th>\n",
       "      <th>...</th>\n",
       "      <th>corners</th>\n",
       "      <th>tackles.1</th>\n",
       "      <th>duels</th>\n",
       "      <th>man-to-man_duels</th>\n",
       "      <th>aerial_duels</th>\n",
       "      <th>passes</th>\n",
       "      <th>short_passes</th>\n",
       "      <th>long_passes</th>\n",
       "      <th>through_balls</th>\n",
       "      <th>goals_scored_per_attempt</th>\n",
       "    </tr>\n",
       "  </thead>\n",
       "  <tbody>\n",
       "    <tr>\n",
       "      <th>0</th>\n",
       "      <td>Athletic Club</td>\n",
       "      <td>Goalkeeper</td>\n",
       "      <td>NaN</td>\n",
       "      <td>Hodei Oleaga</td>\n",
       "      <td>0.000</td>\n",
       "      <td>0</td>\n",
       "      <td>0.00%</td>\n",
       "      <td>0</td>\n",
       "      <td>0.00%</td>\n",
       "      <td>0</td>\n",
       "      <td>...</td>\n",
       "      <td>0</td>\n",
       "      <td>0</td>\n",
       "      <td>0</td>\n",
       "      <td>0</td>\n",
       "      <td>0</td>\n",
       "      <td>0.0</td>\n",
       "      <td>0.0</td>\n",
       "      <td>0</td>\n",
       "      <td>0</td>\n",
       "      <td>0</td>\n",
       "    </tr>\n",
       "    <tr>\n",
       "      <th>1</th>\n",
       "      <td>Athletic Club</td>\n",
       "      <td>Goalkeeper</td>\n",
       "      <td>1.0</td>\n",
       "      <td>A. Remiro</td>\n",
       "      <td>0.000</td>\n",
       "      <td>0</td>\n",
       "      <td>0.00%</td>\n",
       "      <td>0</td>\n",
       "      <td>0.00%</td>\n",
       "      <td>0</td>\n",
       "      <td>...</td>\n",
       "      <td>0</td>\n",
       "      <td>0</td>\n",
       "      <td>0</td>\n",
       "      <td>0</td>\n",
       "      <td>0</td>\n",
       "      <td>0.0</td>\n",
       "      <td>0.0</td>\n",
       "      <td>0</td>\n",
       "      <td>0</td>\n",
       "      <td>0</td>\n",
       "    </tr>\n",
       "    <tr>\n",
       "      <th>2</th>\n",
       "      <td>Athletic Club</td>\n",
       "      <td>Goalkeeper</td>\n",
       "      <td>13.0</td>\n",
       "      <td>Herrerín</td>\n",
       "      <td>2.790</td>\n",
       "      <td>31</td>\n",
       "      <td>82.00%</td>\n",
       "      <td>31</td>\n",
       "      <td>82.00%</td>\n",
       "      <td>31</td>\n",
       "      <td>...</td>\n",
       "      <td>0</td>\n",
       "      <td>0</td>\n",
       "      <td>25</td>\n",
       "      <td>6</td>\n",
       "      <td>19</td>\n",
       "      <td>887.0</td>\n",
       "      <td>128.0</td>\n",
       "      <td>759</td>\n",
       "      <td>1</td>\n",
       "      <td>0</td>\n",
       "    </tr>\n",
       "    <tr>\n",
       "      <th>3</th>\n",
       "      <td>Athletic Club</td>\n",
       "      <td>Goalkeeper</td>\n",
       "      <td>25.0</td>\n",
       "      <td>Unai Simón</td>\n",
       "      <td>630.000</td>\n",
       "      <td>7</td>\n",
       "      <td>18.00%</td>\n",
       "      <td>7</td>\n",
       "      <td>18.00%</td>\n",
       "      <td>7</td>\n",
       "      <td>...</td>\n",
       "      <td>0</td>\n",
       "      <td>0</td>\n",
       "      <td>3</td>\n",
       "      <td>2</td>\n",
       "      <td>1</td>\n",
       "      <td>155.0</td>\n",
       "      <td>49.0</td>\n",
       "      <td>106</td>\n",
       "      <td>0</td>\n",
       "      <td>0</td>\n",
       "    </tr>\n",
       "    <tr>\n",
       "      <th>4</th>\n",
       "      <td>Athletic Club</td>\n",
       "      <td>Defender</td>\n",
       "      <td>3.0</td>\n",
       "      <td>Núñez</td>\n",
       "      <td>1.063</td>\n",
       "      <td>12</td>\n",
       "      <td>32.00%</td>\n",
       "      <td>11</td>\n",
       "      <td>29.00%</td>\n",
       "      <td>11</td>\n",
       "      <td>...</td>\n",
       "      <td>0</td>\n",
       "      <td>15</td>\n",
       "      <td>107</td>\n",
       "      <td>38</td>\n",
       "      <td>69</td>\n",
       "      <td>536.0</td>\n",
       "      <td>457.0</td>\n",
       "      <td>78</td>\n",
       "      <td>1</td>\n",
       "      <td>0</td>\n",
       "    </tr>\n",
       "  </tbody>\n",
       "</table>\n",
       "<p>5 rows × 62 columns</p>\n",
       "</div>"
      ],
      "text/plain": [
       "            team    position  shirt_number          name  minutes_played  \\\n",
       "0  Athletic Club  Goalkeeper           NaN  Hodei Oleaga           0.000   \n",
       "1  Athletic Club  Goalkeeper           1.0     A. Remiro           0.000   \n",
       "2  Athletic Club  Goalkeeper          13.0      Herrerín           2.790   \n",
       "3  Athletic Club  Goalkeeper          25.0    Unai Simón         630.000   \n",
       "4  Athletic Club    Defender           3.0         Núñez           1.063   \n",
       "\n",
       "   games_played percentage_of_games_played  full_games_played  \\\n",
       "0             0                      0.00%                  0   \n",
       "1             0                      0.00%                  0   \n",
       "2            31                     82.00%                 31   \n",
       "3             7                     18.00%                  7   \n",
       "4            12                     32.00%                 11   \n",
       "\n",
       "  percentage_of_full_games_played  games_started  ... corners  tackles.1  \\\n",
       "0                           0.00%              0  ...       0          0   \n",
       "1                           0.00%              0  ...       0          0   \n",
       "2                          82.00%             31  ...       0          0   \n",
       "3                          18.00%              7  ...       0          0   \n",
       "4                          29.00%             11  ...       0         15   \n",
       "\n",
       "  duels  man-to-man_duels  aerial_duels  passes  short_passes  long_passes  \\\n",
       "0     0                 0             0     0.0           0.0            0   \n",
       "1     0                 0             0     0.0           0.0            0   \n",
       "2    25                 6            19   887.0         128.0          759   \n",
       "3     3                 2             1   155.0          49.0          106   \n",
       "4   107                38            69   536.0         457.0           78   \n",
       "\n",
       "   through_balls  goals_scored_per_attempt  \n",
       "0              0                         0  \n",
       "1              0                         0  \n",
       "2              1                         0  \n",
       "3              0                         0  \n",
       "4              1                         0  \n",
       "\n",
       "[5 rows x 62 columns]"
      ]
     },
     "execution_count": 161,
     "metadata": {},
     "output_type": "execute_result"
    }
   ],
   "source": [
    "players_df.head()"
   ]
  },
  {
   "cell_type": "markdown",
   "id": "5b0414b0",
   "metadata": {},
   "source": [
    "Limpiamos la columna 'shirt_number' (única en la que encontramos valores NaN).\n",
    "\n",
    "Sustituimos los NaN en 'Shirt Number' por \"unknown\".\n",
    "\n",
    "Realmente no sería complicado rellenar estos valores con los dorsales correspondientes (tal y como haremos más adelante con los nombres repetidos), pero en principio esta columna no vamos a utilizarla y tampoco es algo necesario en este momento (aunque sería lo ideal). El proceso que deberíamos seguir lo veremos en el cambio de nombres de jugadores (estos sí que los cambiaremos porque las utilizaremos a la hora de construir las relaciones)."
   ]
  },
  {
   "cell_type": "code",
   "execution_count": 162,
   "id": "c4eb9140",
   "metadata": {},
   "outputs": [],
   "source": [
    "players_df.shirt_number.fillna(\"unknown\",inplace=True)"
   ]
  },
  {
   "cell_type": "code",
   "execution_count": 164,
   "id": "1e332847",
   "metadata": {},
   "outputs": [
    {
     "data": {
      "text/plain": [
       "[array([  0,  11,  24,  29,  75,  84, 101, 119, 166, 179, 180, 181, 198,\n",
       "        233, 254, 255, 265, 287, 311, 320, 321, 339, 349, 367, 370, 392,\n",
       "        398, 412, 532, 540])]"
      ]
     },
     "execution_count": 164,
     "metadata": {},
     "output_type": "execute_result"
    }
   ],
   "source": [
    "duplicate = list(np.where(players_df[\"shirt_number\"] == 'unknown')) \n",
    "duplicate # Estos serían los valores a rellenar con el dorsal correspondiente."
   ]
  },
  {
   "cell_type": "markdown",
   "id": "c94a16a6",
   "metadata": {},
   "source": [
    "Comenzamos por la columna 'Team'."
   ]
  },
  {
   "cell_type": "code",
   "execution_count": 166,
   "id": "d1c3c01c",
   "metadata": {
    "scrolled": true
   },
   "outputs": [
    {
     "data": {
      "text/plain": [
       "array(['Athletic Club', 'Atlético de Madrid', 'CD Leganés', 'D. Alavés',\n",
       "       'FC Barcelona', 'Getafe CF', 'Girona FC', 'Levante UD',\n",
       "       'R. Valladolid CF', 'Rayo Vallecano', 'RC Celta', 'RCD Espanyol',\n",
       "       'Real Betis', 'Real Madrid', 'Real Sociedad', 'SD Eibar',\n",
       "       'SD Huesca', 'Sevilla FC', 'Valencia CF', 'Villarreal CF'],\n",
       "      dtype=object)"
      ]
     },
     "execution_count": 166,
     "metadata": {},
     "output_type": "execute_result"
    }
   ],
   "source": [
    "players_df['team'].unique()"
   ]
  },
  {
   "cell_type": "code",
   "execution_count": 167,
   "id": "e018fba5",
   "metadata": {},
   "outputs": [],
   "source": [
    "players_df['team'] = players_df['team'].apply(lambda x: x.replace(' ', '_')) # Sustituimos los espacios por \"_\""
   ]
  },
  {
   "cell_type": "code",
   "execution_count": 170,
   "id": "c0a48e91",
   "metadata": {},
   "outputs": [],
   "source": [
    "players_df['team'] = players_df['team'].apply(lambda x: x.replace('.', '')) # ELiminamos los puntos."
   ]
  },
  {
   "cell_type": "code",
   "execution_count": 172,
   "id": "ed5f8956",
   "metadata": {
    "scrolled": true
   },
   "outputs": [
    {
     "data": {
      "text/plain": [
       "array(['Athletic_Club', 'Atlético_de_Madrid', 'CD_Leganés', 'D_Alavés',\n",
       "       'FC_Barcelona', 'Getafe_CF', 'Girona_FC', 'Levante_UD',\n",
       "       'R_Valladolid_CF', 'Rayo_Vallecano', 'RC_Celta', 'RCD_Espanyol',\n",
       "       'Real_Betis', 'Real_Madrid', 'Real_Sociedad', 'SD_Eibar',\n",
       "       'SD_Huesca', 'Sevilla_FC', 'Valencia_CF', 'Villarreal_CF'],\n",
       "      dtype=object)"
      ]
     },
     "execution_count": 172,
     "metadata": {},
     "output_type": "execute_result"
    }
   ],
   "source": [
    "players_df['team'].unique()"
   ]
  },
  {
   "cell_type": "markdown",
   "id": "696254ae",
   "metadata": {},
   "source": [
    "Identificamos un problema con los nombres de los jugadores en nuestro DataFrame."
   ]
  },
  {
   "cell_type": "code",
   "execution_count": 173,
   "id": "da0ce6ef",
   "metadata": {},
   "outputs": [
    {
     "data": {
      "text/plain": [
       "556"
      ]
     },
     "execution_count": 173,
     "metadata": {},
     "output_type": "execute_result"
    }
   ],
   "source": [
    "len(players_df.name)"
   ]
  },
  {
   "cell_type": "code",
   "execution_count": 174,
   "id": "c887fde1",
   "metadata": {},
   "outputs": [
    {
     "data": {
      "text/plain": [
       "547"
      ]
     },
     "execution_count": 174,
     "metadata": {},
     "output_type": "execute_result"
    }
   ],
   "source": [
    "len(players_df.name.unique())"
   ]
  },
  {
   "cell_type": "markdown",
   "id": "2bec473f",
   "metadata": {},
   "source": [
    "Observamos que existen nombres repetidos (el número de valores es mayor al de valores únicos). En concreto, se repite un total de 9 valores (nombres de jugadores).\n",
    "\n",
    "Esto será un problema a la hora de vincular esta tabla con la de valores de mercado por jugadores, así que trataremos de limpiar los datos y arreglar este problema."
   ]
  },
  {
   "cell_type": "code",
   "execution_count": 175,
   "id": "e575c4f1",
   "metadata": {},
   "outputs": [],
   "source": [
    "# Primero averiguamos cuáles son los valores repetidos.\n",
    "\n",
    "pl = players_df.copy()  # Generemos una copia del DataFrame (para mantener el original intacto).\n",
    "p = pl.groupby('name').team.nunique().reset_index() # Agrupamos por 'Name' y en la columna 'Team' incluimos el número de valores en esta columna (una vez hecho el groupby)."
   ]
  },
  {
   "cell_type": "code",
   "execution_count": 177,
   "id": "aa223f92",
   "metadata": {
    "scrolled": false
   },
   "outputs": [
    {
     "name": "stdout",
     "output_type": "stream",
     "text": [
      "          name  team\n",
      "68       Borja     2\n",
      "76       Bruno     2\n",
      "248    Joaquín     2\n",
      "262   Juanfran     2\n",
      "280       Koke     2\n",
      "361      Nacho     2\n",
      "434    Rodrigo     2\n",
      "467  Sergio A.     2\n",
      "512    Vázquez     2\n"
     ]
    }
   ],
   "source": [
    "print(p.loc[p['team'] > 1]) # Seleccionamos aquellos registros con un valor de 'Team' mayor que 1 (aquellos que se repiten)."
   ]
  },
  {
   "cell_type": "code",
   "execution_count": 178,
   "id": "9b517b3b",
   "metadata": {},
   "outputs": [
    {
     "data": {
      "text/plain": [
       "[array([114, 236])]"
      ]
     },
     "execution_count": 178,
     "metadata": {},
     "output_type": "execute_result"
    }
   ],
   "source": [
    "duplicate = list(np.where(players_df[\"name\"] == 'Borja')) \n",
    "duplicate # Nos devuelve el index del registro donde 'Name' = 'Borja'."
   ]
  },
  {
   "cell_type": "code",
   "execution_count": 179,
   "id": "bf8b05c1",
   "metadata": {},
   "outputs": [
    {
     "name": "stdout",
     "output_type": "stream",
     "text": [
      "Borja Borja\n"
     ]
    }
   ],
   "source": [
    "# Observamos que el 'Name' para los index consultados coincide con 'Borja'\n",
    "\n",
    "print(players_df[\"name\"][114], players_df[\"name\"][236])"
   ]
  },
  {
   "cell_type": "code",
   "execution_count": 180,
   "id": "5d79d358",
   "metadata": {
    "scrolled": false
   },
   "outputs": [
    {
     "name": "stdout",
     "output_type": "stream",
     "text": [
      "D_Alavés R_Valladolid_CF\n"
     ]
    }
   ],
   "source": [
    "# Consultamos el equipo de cada Borja para poder buscar su apellido y cambiar el valor.\n",
    "\n",
    "print(players_df[\"team\"][114], players_df[\"team\"][236])"
   ]
  },
  {
   "cell_type": "markdown",
   "id": "3a6c20f8",
   "metadata": {},
   "source": [
    "Cambiaremos el nombre por nombre + apellido.\n",
    "\n",
    "Lo haremos \"a mano\" buscando el apellido del jugador en función del equipo en el que juega.\n",
    "\n",
    "En este primer caso:\n",
    "\n",
    "   - Borja del Alavés [114] = Borja Bastón\n",
    "   - Borja del Valladolid [236] = Borja Fernández\n",
    "   \n",
    "Cabe destacar que aprovecharemos para incluir el valor (nombre del jugador) tal y como lo tenemos en la tabla de market_values (ahorramos futuros procesos de limpieza)."
   ]
  },
  {
   "cell_type": "code",
   "execution_count": 181,
   "id": "9978a6d1",
   "metadata": {
    "scrolled": false
   },
   "outputs": [
    {
     "name": "stderr",
     "output_type": "stream",
     "text": [
      "/tmp/ipykernel_672/567936331.py:1: SettingWithCopyWarning: \n",
      "A value is trying to be set on a copy of a slice from a DataFrame\n",
      "\n",
      "See the caveats in the documentation: https://pandas.pydata.org/pandas-docs/stable/user_guide/indexing.html#returning-a-view-versus-a-copy\n",
      "  players_df[\"name\"][114] = 'Borja Bastón'\n",
      "/tmp/ipykernel_672/567936331.py:2: SettingWithCopyWarning: \n",
      "A value is trying to be set on a copy of a slice from a DataFrame\n",
      "\n",
      "See the caveats in the documentation: https://pandas.pydata.org/pandas-docs/stable/user_guide/indexing.html#returning-a-view-versus-a-copy\n",
      "  players_df[\"name\"][236] = 'Borja Fernández'\n"
     ]
    }
   ],
   "source": [
    "players_df[\"name\"][114] = 'Borja Bastón'\n",
    "players_df[\"name\"][236] = 'Borja Fernández'"
   ]
  },
  {
   "cell_type": "code",
   "execution_count": 182,
   "id": "3149f710",
   "metadata": {
    "scrolled": true
   },
   "outputs": [
    {
     "name": "stdout",
     "output_type": "stream",
     "text": [
      "Borja Bastón Borja Fernández\n"
     ]
    }
   ],
   "source": [
    "print(players_df[\"name\"][114], players_df[\"name\"][236])"
   ]
  },
  {
   "cell_type": "markdown",
   "id": "178882d0",
   "metadata": {},
   "source": [
    "Seguimos este mismo proceso para el resto de valores repetidos."
   ]
  },
  {
   "cell_type": "markdown",
   "id": "65242437",
   "metadata": {},
   "source": [
    "Para los \"Bruno\"."
   ]
  },
  {
   "cell_type": "code",
   "execution_count": 183,
   "id": "dd15a409",
   "metadata": {},
   "outputs": [
    {
     "data": {
      "text/plain": [
       "[array([147, 548])]"
      ]
     },
     "execution_count": 183,
     "metadata": {},
     "output_type": "execute_result"
    }
   ],
   "source": [
    "duplicate = list(np.where(players_df[\"name\"] == 'Bruno')) \n",
    "duplicate "
   ]
  },
  {
   "cell_type": "code",
   "execution_count": 184,
   "id": "5d68a255",
   "metadata": {
    "scrolled": false
   },
   "outputs": [
    {
     "name": "stdout",
     "output_type": "stream",
     "text": [
      "Getafe_CF Villarreal_CF\n"
     ]
    }
   ],
   "source": [
    "print(players_df[\"team\"][147], players_df[\"team\"][548])"
   ]
  },
  {
   "cell_type": "code",
   "execution_count": 185,
   "id": "d4f1f6c4",
   "metadata": {
    "scrolled": true
   },
   "outputs": [
    {
     "name": "stderr",
     "output_type": "stream",
     "text": [
      "/tmp/ipykernel_672/1889405779.py:1: SettingWithCopyWarning: \n",
      "A value is trying to be set on a copy of a slice from a DataFrame\n",
      "\n",
      "See the caveats in the documentation: https://pandas.pydata.org/pandas-docs/stable/user_guide/indexing.html#returning-a-view-versus-a-copy\n",
      "  players_df[\"name\"][147] = 'Bruno González'\n",
      "/tmp/ipykernel_672/1889405779.py:2: SettingWithCopyWarning: \n",
      "A value is trying to be set on a copy of a slice from a DataFrame\n",
      "\n",
      "See the caveats in the documentation: https://pandas.pydata.org/pandas-docs/stable/user_guide/indexing.html#returning-a-view-versus-a-copy\n",
      "  players_df[\"name\"][548] = 'Bruno Soriano'\n"
     ]
    }
   ],
   "source": [
    "players_df[\"name\"][147] = 'Bruno González'\n",
    "players_df[\"name\"][548] = 'Bruno Soriano'"
   ]
  },
  {
   "cell_type": "code",
   "execution_count": 186,
   "id": "ddef2ba1",
   "metadata": {},
   "outputs": [
    {
     "name": "stdout",
     "output_type": "stream",
     "text": [
      "Bruno González Bruno Soriano\n"
     ]
    }
   ],
   "source": [
    "print(players_df[\"name\"][147], players_df[\"name\"][548])"
   ]
  },
  {
   "cell_type": "markdown",
   "id": "6af8b84f",
   "metadata": {},
   "source": [
    "Para los \"Joaquín\"."
   ]
  },
  {
   "cell_type": "code",
   "execution_count": 187,
   "id": "2b15045a",
   "metadata": {},
   "outputs": [
    {
     "data": {
      "text/plain": [
       "[array([223, 354])]"
      ]
     },
     "execution_count": 187,
     "metadata": {},
     "output_type": "execute_result"
    }
   ],
   "source": [
    "duplicate = list(np.where(players_df[\"name\"] == 'Joaquín')) \n",
    "duplicate "
   ]
  },
  {
   "cell_type": "code",
   "execution_count": 188,
   "id": "ec3a6882",
   "metadata": {
    "scrolled": true
   },
   "outputs": [
    {
     "name": "stdout",
     "output_type": "stream",
     "text": [
      "R_Valladolid_CF Real_Betis\n"
     ]
    }
   ],
   "source": [
    "print(players_df[\"team\"][223], players_df[\"team\"][354])"
   ]
  },
  {
   "cell_type": "code",
   "execution_count": 189,
   "id": "19077bff",
   "metadata": {
    "scrolled": true
   },
   "outputs": [
    {
     "name": "stderr",
     "output_type": "stream",
     "text": [
      "/tmp/ipykernel_672/2002813078.py:1: SettingWithCopyWarning: \n",
      "A value is trying to be set on a copy of a slice from a DataFrame\n",
      "\n",
      "See the caveats in the documentation: https://pandas.pydata.org/pandas-docs/stable/user_guide/indexing.html#returning-a-view-versus-a-copy\n",
      "  players_df[\"name\"][223] = 'Joaquín Fernández'\n",
      "/tmp/ipykernel_672/2002813078.py:2: SettingWithCopyWarning: \n",
      "A value is trying to be set on a copy of a slice from a DataFrame\n",
      "\n",
      "See the caveats in the documentation: https://pandas.pydata.org/pandas-docs/stable/user_guide/indexing.html#returning-a-view-versus-a-copy\n",
      "  players_df[\"name\"][354] = 'Joaquín'\n"
     ]
    }
   ],
   "source": [
    "players_df[\"name\"][223] = 'Joaquín Fernández'\n",
    "players_df[\"name\"][354] = 'Joaquín'"
   ]
  },
  {
   "cell_type": "markdown",
   "id": "9b383c4d",
   "metadata": {},
   "source": [
    "Para los \"Juanfran\"."
   ]
  },
  {
   "cell_type": "code",
   "execution_count": 190,
   "id": "65da829d",
   "metadata": {},
   "outputs": [
    {
     "data": {
      "text/plain": [
       "[array([37, 65])]"
      ]
     },
     "execution_count": 190,
     "metadata": {},
     "output_type": "execute_result"
    }
   ],
   "source": [
    "duplicate = list(np.where(players_df[\"name\"] == 'Juanfran')) \n",
    "duplicate "
   ]
  },
  {
   "cell_type": "code",
   "execution_count": 191,
   "id": "a0518ca9",
   "metadata": {
    "scrolled": true
   },
   "outputs": [
    {
     "name": "stdout",
     "output_type": "stream",
     "text": [
      "Atlético_de_Madrid CD_Leganés\n"
     ]
    }
   ],
   "source": [
    "print(players_df[\"team\"][37], players_df[\"team\"][65])"
   ]
  },
  {
   "cell_type": "code",
   "execution_count": 192,
   "id": "93175f13",
   "metadata": {
    "scrolled": true
   },
   "outputs": [
    {
     "name": "stderr",
     "output_type": "stream",
     "text": [
      "/tmp/ipykernel_672/1103764446.py:1: SettingWithCopyWarning: \n",
      "A value is trying to be set on a copy of a slice from a DataFrame\n",
      "\n",
      "See the caveats in the documentation: https://pandas.pydata.org/pandas-docs/stable/user_guide/indexing.html#returning-a-view-versus-a-copy\n",
      "  players_df[\"name\"][37] = 'Juanfran Torres'\n",
      "/tmp/ipykernel_672/1103764446.py:2: SettingWithCopyWarning: \n",
      "A value is trying to be set on a copy of a slice from a DataFrame\n",
      "\n",
      "See the caveats in the documentation: https://pandas.pydata.org/pandas-docs/stable/user_guide/indexing.html#returning-a-view-versus-a-copy\n",
      "  players_df[\"name\"][65] = 'Juanfran'\n"
     ]
    }
   ],
   "source": [
    "players_df[\"name\"][37] = 'Juanfran Torres'\n",
    "players_df[\"name\"][65] = 'Juanfran'"
   ]
  },
  {
   "cell_type": "markdown",
   "id": "ba9b96cf",
   "metadata": {},
   "source": [
    "Para los \"Koke\"."
   ]
  },
  {
   "cell_type": "code",
   "execution_count": 193,
   "id": "7bc45b40",
   "metadata": {},
   "outputs": [
    {
     "data": {
      "text/plain": [
       "[array([ 44, 195])]"
      ]
     },
     "execution_count": 193,
     "metadata": {},
     "output_type": "execute_result"
    }
   ],
   "source": [
    "duplicate = list(np.where(players_df[\"name\"] == 'Koke')) \n",
    "duplicate "
   ]
  },
  {
   "cell_type": "code",
   "execution_count": 194,
   "id": "eb0afc6e",
   "metadata": {},
   "outputs": [
    {
     "name": "stdout",
     "output_type": "stream",
     "text": [
      "Atlético_de_Madrid Levante_UD\n"
     ]
    }
   ],
   "source": [
    "print(players_df[\"team\"][44], players_df[\"team\"][195])"
   ]
  },
  {
   "cell_type": "code",
   "execution_count": 195,
   "id": "75013013",
   "metadata": {
    "scrolled": false
   },
   "outputs": [
    {
     "name": "stderr",
     "output_type": "stream",
     "text": [
      "/tmp/ipykernel_672/202468367.py:1: SettingWithCopyWarning: \n",
      "A value is trying to be set on a copy of a slice from a DataFrame\n",
      "\n",
      "See the caveats in the documentation: https://pandas.pydata.org/pandas-docs/stable/user_guide/indexing.html#returning-a-view-versus-a-copy\n",
      "  players_df[\"name\"][44] = 'Koke'\n",
      "/tmp/ipykernel_672/202468367.py:2: SettingWithCopyWarning: \n",
      "A value is trying to be set on a copy of a slice from a DataFrame\n",
      "\n",
      "See the caveats in the documentation: https://pandas.pydata.org/pandas-docs/stable/user_guide/indexing.html#returning-a-view-versus-a-copy\n",
      "  players_df[\"name\"][195] = 'Koke Vegas'\n"
     ]
    }
   ],
   "source": [
    "players_df[\"name\"][44] = 'Koke'\n",
    "players_df[\"name\"][195] = 'Koke Vegas'"
   ]
  },
  {
   "cell_type": "markdown",
   "id": "0a14e3a3",
   "metadata": {},
   "source": [
    "Para los \"Nacho\"."
   ]
  },
  {
   "cell_type": "code",
   "execution_count": 196,
   "id": "b589cad6",
   "metadata": {},
   "outputs": [
    {
     "data": {
      "text/plain": [
       "[array([229, 375])]"
      ]
     },
     "execution_count": 196,
     "metadata": {},
     "output_type": "execute_result"
    }
   ],
   "source": [
    "duplicate = list(np.where(players_df[\"name\"] == 'Nacho')) \n",
    "duplicate "
   ]
  },
  {
   "cell_type": "code",
   "execution_count": 197,
   "id": "f33c4111",
   "metadata": {},
   "outputs": [
    {
     "name": "stdout",
     "output_type": "stream",
     "text": [
      "R_Valladolid_CF Real_Madrid\n"
     ]
    }
   ],
   "source": [
    "print(players_df[\"team\"][229], players_df[\"team\"][375])"
   ]
  },
  {
   "cell_type": "code",
   "execution_count": 198,
   "id": "c972a142",
   "metadata": {},
   "outputs": [
    {
     "name": "stderr",
     "output_type": "stream",
     "text": [
      "/tmp/ipykernel_672/2611386392.py:1: SettingWithCopyWarning: \n",
      "A value is trying to be set on a copy of a slice from a DataFrame\n",
      "\n",
      "See the caveats in the documentation: https://pandas.pydata.org/pandas-docs/stable/user_guide/indexing.html#returning-a-view-versus-a-copy\n",
      "  players_df[\"name\"][229] = 'Nacho Martínez'\n",
      "/tmp/ipykernel_672/2611386392.py:2: SettingWithCopyWarning: \n",
      "A value is trying to be set on a copy of a slice from a DataFrame\n",
      "\n",
      "See the caveats in the documentation: https://pandas.pydata.org/pandas-docs/stable/user_guide/indexing.html#returning-a-view-versus-a-copy\n",
      "  players_df[\"name\"][375] = 'Nacho Fernández'\n"
     ]
    }
   ],
   "source": [
    "players_df[\"name\"][229] = 'Nacho Martínez'\n",
    "players_df[\"name\"][375] = 'Nacho Fernández'"
   ]
  },
  {
   "cell_type": "markdown",
   "id": "d375c8d5",
   "metadata": {},
   "source": [
    "Para los \"Rodrigo\"."
   ]
  },
  {
   "cell_type": "code",
   "execution_count": 199,
   "id": "41514ca6",
   "metadata": {},
   "outputs": [
    {
     "data": {
      "text/plain": [
       "[array([ 46, 525])]"
      ]
     },
     "execution_count": 199,
     "metadata": {},
     "output_type": "execute_result"
    }
   ],
   "source": [
    "duplicate = list(np.where(players_df[\"name\"] == 'Rodrigo')) \n",
    "duplicate "
   ]
  },
  {
   "cell_type": "code",
   "execution_count": 200,
   "id": "2cf188f6",
   "metadata": {},
   "outputs": [
    {
     "name": "stdout",
     "output_type": "stream",
     "text": [
      "Atlético_de_Madrid Valencia_CF\n"
     ]
    }
   ],
   "source": [
    "print(players_df[\"team\"][46], players_df[\"team\"][525])"
   ]
  },
  {
   "cell_type": "code",
   "execution_count": 201,
   "id": "5d532e40",
   "metadata": {
    "scrolled": true
   },
   "outputs": [
    {
     "name": "stderr",
     "output_type": "stream",
     "text": [
      "/tmp/ipykernel_672/2460673721.py:1: SettingWithCopyWarning: \n",
      "A value is trying to be set on a copy of a slice from a DataFrame\n",
      "\n",
      "See the caveats in the documentation: https://pandas.pydata.org/pandas-docs/stable/user_guide/indexing.html#returning-a-view-versus-a-copy\n",
      "  players_df[\"name\"][46] = 'Rodri'\n",
      "/tmp/ipykernel_672/2460673721.py:2: SettingWithCopyWarning: \n",
      "A value is trying to be set on a copy of a slice from a DataFrame\n",
      "\n",
      "See the caveats in the documentation: https://pandas.pydata.org/pandas-docs/stable/user_guide/indexing.html#returning-a-view-versus-a-copy\n",
      "  players_df[\"name\"][525] = 'Rodrigo'\n"
     ]
    }
   ],
   "source": [
    "players_df[\"name\"][46] = 'Rodri'\n",
    "players_df[\"name\"][525] = 'Rodrigo'"
   ]
  },
  {
   "cell_type": "markdown",
   "id": "187964a2",
   "metadata": {},
   "source": [
    "Para los \"Sergio A.\"."
   ]
  },
  {
   "cell_type": "code",
   "execution_count": 202,
   "id": "d66ec2e5",
   "metadata": {},
   "outputs": [
    {
     "data": {
      "text/plain": [
       "[array([284, 441])]"
      ]
     },
     "execution_count": 202,
     "metadata": {},
     "output_type": "execute_result"
    }
   ],
   "source": [
    "duplicate = list(np.where(players_df[\"name\"] == 'Sergio A.')) \n",
    "duplicate "
   ]
  },
  {
   "cell_type": "code",
   "execution_count": 203,
   "id": "338bb33a",
   "metadata": {},
   "outputs": [
    {
     "name": "stdout",
     "output_type": "stream",
     "text": [
      "RC_Celta SD_Eibar\n"
     ]
    }
   ],
   "source": [
    "print(players_df[\"team\"][284], players_df[\"team\"][441])"
   ]
  },
  {
   "cell_type": "code",
   "execution_count": 204,
   "id": "81477352",
   "metadata": {},
   "outputs": [
    {
     "name": "stderr",
     "output_type": "stream",
     "text": [
      "/tmp/ipykernel_672/3601059344.py:1: SettingWithCopyWarning: \n",
      "A value is trying to be set on a copy of a slice from a DataFrame\n",
      "\n",
      "See the caveats in the documentation: https://pandas.pydata.org/pandas-docs/stable/user_guide/indexing.html#returning-a-view-versus-a-copy\n",
      "  players_df[\"name\"][284] = 'Sergio Álvarez'\n",
      "/tmp/ipykernel_672/3601059344.py:2: SettingWithCopyWarning: \n",
      "A value is trying to be set on a copy of a slice from a DataFrame\n",
      "\n",
      "See the caveats in the documentation: https://pandas.pydata.org/pandas-docs/stable/user_guide/indexing.html#returning-a-view-versus-a-copy\n",
      "  players_df[\"name\"][441] = 'Sergio Álvarez Díaz' # Ojo que este no coincide con el nombre en market_values (allí es 'Sergio Álvarez'; lo cambiamos para que sea valor único).\n"
     ]
    }
   ],
   "source": [
    "players_df[\"name\"][284] = 'Sergio Álvarez'\n",
    "players_df[\"name\"][441] = 'Sergio Álvarez Díaz' # Ojo que este no coincide con el nombre en market_values (allí es 'Sergio Álvarez'; lo cambiamos para que sea valor único)."
   ]
  },
  {
   "cell_type": "markdown",
   "id": "53e81d81",
   "metadata": {},
   "source": [
    "Para los \"Vázquez\"."
   ]
  },
  {
   "cell_type": "code",
   "execution_count": 205,
   "id": "e98115f3",
   "metadata": {},
   "outputs": [
    {
     "data": {
      "text/plain": [
       "[array([293, 498])]"
      ]
     },
     "execution_count": 205,
     "metadata": {},
     "output_type": "execute_result"
    }
   ],
   "source": [
    "duplicate = list(np.where(players_df[\"name\"] == 'Vázquez')) \n",
    "duplicate "
   ]
  },
  {
   "cell_type": "code",
   "execution_count": 206,
   "id": "2e39935d",
   "metadata": {},
   "outputs": [
    {
     "name": "stdout",
     "output_type": "stream",
     "text": [
      "RC_Celta Sevilla_FC\n"
     ]
    }
   ],
   "source": [
    "print(players_df[\"team\"][293], players_df[\"team\"][498])"
   ]
  },
  {
   "cell_type": "code",
   "execution_count": 207,
   "id": "825d9768",
   "metadata": {},
   "outputs": [
    {
     "name": "stderr",
     "output_type": "stream",
     "text": [
      "/tmp/ipykernel_672/3015245705.py:1: SettingWithCopyWarning: \n",
      "A value is trying to be set on a copy of a slice from a DataFrame\n",
      "\n",
      "See the caveats in the documentation: https://pandas.pydata.org/pandas-docs/stable/user_guide/indexing.html#returning-a-view-versus-a-copy\n",
      "  players_df[\"name\"][293] = 'Kevin Vázquez'\n",
      "/tmp/ipykernel_672/3015245705.py:2: SettingWithCopyWarning: \n",
      "A value is trying to be set on a copy of a slice from a DataFrame\n",
      "\n",
      "See the caveats in the documentation: https://pandas.pydata.org/pandas-docs/stable/user_guide/indexing.html#returning-a-view-versus-a-copy\n",
      "  players_df[\"name\"][498] = 'Franco Vázquez'\n"
     ]
    }
   ],
   "source": [
    "players_df[\"name\"][293] = 'Kevin Vázquez'\n",
    "players_df[\"name\"][498] = 'Franco Vázquez'"
   ]
  },
  {
   "cell_type": "markdown",
   "id": "24074073",
   "metadata": {},
   "source": [
    "Comprobamos que ya no quedan valores duplicados en esta columna."
   ]
  },
  {
   "cell_type": "code",
   "execution_count": 209,
   "id": "b2ac232e",
   "metadata": {},
   "outputs": [
    {
     "data": {
      "text/plain": [
       "556"
      ]
     },
     "execution_count": 209,
     "metadata": {},
     "output_type": "execute_result"
    }
   ],
   "source": [
    "len(players_df.name)"
   ]
  },
  {
   "cell_type": "code",
   "execution_count": 210,
   "id": "763511c9",
   "metadata": {
    "scrolled": true
   },
   "outputs": [
    {
     "data": {
      "text/plain": [
       "556"
      ]
     },
     "execution_count": 210,
     "metadata": {},
     "output_type": "execute_result"
    }
   ],
   "source": [
    "len(players_df.name.unique())"
   ]
  },
  {
   "cell_type": "markdown",
   "id": "e7e98db1",
   "metadata": {},
   "source": [
    "### Resultado Final"
   ]
  },
  {
   "cell_type": "code",
   "execution_count": 227,
   "id": "adc798a6",
   "metadata": {
    "scrolled": true
   },
   "outputs": [
    {
     "data": {
      "text/html": [
       "<div>\n",
       "<style scoped>\n",
       "    .dataframe tbody tr th:only-of-type {\n",
       "        vertical-align: middle;\n",
       "    }\n",
       "\n",
       "    .dataframe tbody tr th {\n",
       "        vertical-align: top;\n",
       "    }\n",
       "\n",
       "    .dataframe thead th {\n",
       "        text-align: right;\n",
       "    }\n",
       "</style>\n",
       "<table border=\"1\" class=\"dataframe\">\n",
       "  <thead>\n",
       "    <tr style=\"text-align: right;\">\n",
       "      <th></th>\n",
       "      <th>team</th>\n",
       "      <th>position</th>\n",
       "      <th>shirt_number</th>\n",
       "      <th>name</th>\n",
       "      <th>minutes_played</th>\n",
       "      <th>games_played</th>\n",
       "      <th>percentage_of_games_played</th>\n",
       "      <th>full_games_played</th>\n",
       "      <th>percentage_of_full_games_played</th>\n",
       "      <th>games_started</th>\n",
       "      <th>...</th>\n",
       "      <th>corners</th>\n",
       "      <th>tackles.1</th>\n",
       "      <th>duels</th>\n",
       "      <th>man-to-man_duels</th>\n",
       "      <th>aerial_duels</th>\n",
       "      <th>passes</th>\n",
       "      <th>short_passes</th>\n",
       "      <th>long_passes</th>\n",
       "      <th>through_balls</th>\n",
       "      <th>goals_scored_per_attempt</th>\n",
       "    </tr>\n",
       "  </thead>\n",
       "  <tbody>\n",
       "    <tr>\n",
       "      <th>0</th>\n",
       "      <td>Athletic_Club</td>\n",
       "      <td>Goalkeeper</td>\n",
       "      <td>unknown</td>\n",
       "      <td>Hodei Oleaga</td>\n",
       "      <td>0.000</td>\n",
       "      <td>0</td>\n",
       "      <td>0.00%</td>\n",
       "      <td>0</td>\n",
       "      <td>0.00%</td>\n",
       "      <td>0</td>\n",
       "      <td>...</td>\n",
       "      <td>0</td>\n",
       "      <td>0</td>\n",
       "      <td>0</td>\n",
       "      <td>0</td>\n",
       "      <td>0</td>\n",
       "      <td>0.000</td>\n",
       "      <td>0.000</td>\n",
       "      <td>0</td>\n",
       "      <td>0</td>\n",
       "      <td>0</td>\n",
       "    </tr>\n",
       "    <tr>\n",
       "      <th>1</th>\n",
       "      <td>Athletic_Club</td>\n",
       "      <td>Goalkeeper</td>\n",
       "      <td>1.0</td>\n",
       "      <td>A. Remiro</td>\n",
       "      <td>0.000</td>\n",
       "      <td>0</td>\n",
       "      <td>0.00%</td>\n",
       "      <td>0</td>\n",
       "      <td>0.00%</td>\n",
       "      <td>0</td>\n",
       "      <td>...</td>\n",
       "      <td>0</td>\n",
       "      <td>0</td>\n",
       "      <td>0</td>\n",
       "      <td>0</td>\n",
       "      <td>0</td>\n",
       "      <td>0.000</td>\n",
       "      <td>0.000</td>\n",
       "      <td>0</td>\n",
       "      <td>0</td>\n",
       "      <td>0</td>\n",
       "    </tr>\n",
       "    <tr>\n",
       "      <th>2</th>\n",
       "      <td>Athletic_Club</td>\n",
       "      <td>Goalkeeper</td>\n",
       "      <td>13.0</td>\n",
       "      <td>Herrerín</td>\n",
       "      <td>2.790</td>\n",
       "      <td>31</td>\n",
       "      <td>82.00%</td>\n",
       "      <td>31</td>\n",
       "      <td>82.00%</td>\n",
       "      <td>31</td>\n",
       "      <td>...</td>\n",
       "      <td>0</td>\n",
       "      <td>0</td>\n",
       "      <td>25</td>\n",
       "      <td>6</td>\n",
       "      <td>19</td>\n",
       "      <td>887.000</td>\n",
       "      <td>128.000</td>\n",
       "      <td>759</td>\n",
       "      <td>1</td>\n",
       "      <td>0</td>\n",
       "    </tr>\n",
       "    <tr>\n",
       "      <th>3</th>\n",
       "      <td>Athletic_Club</td>\n",
       "      <td>Goalkeeper</td>\n",
       "      <td>25.0</td>\n",
       "      <td>Unai Simón</td>\n",
       "      <td>630.000</td>\n",
       "      <td>7</td>\n",
       "      <td>18.00%</td>\n",
       "      <td>7</td>\n",
       "      <td>18.00%</td>\n",
       "      <td>7</td>\n",
       "      <td>...</td>\n",
       "      <td>0</td>\n",
       "      <td>0</td>\n",
       "      <td>3</td>\n",
       "      <td>2</td>\n",
       "      <td>1</td>\n",
       "      <td>155.000</td>\n",
       "      <td>49.000</td>\n",
       "      <td>106</td>\n",
       "      <td>0</td>\n",
       "      <td>0</td>\n",
       "    </tr>\n",
       "    <tr>\n",
       "      <th>4</th>\n",
       "      <td>Athletic_Club</td>\n",
       "      <td>Defender</td>\n",
       "      <td>3.0</td>\n",
       "      <td>Núñez</td>\n",
       "      <td>1.063</td>\n",
       "      <td>12</td>\n",
       "      <td>32.00%</td>\n",
       "      <td>11</td>\n",
       "      <td>29.00%</td>\n",
       "      <td>11</td>\n",
       "      <td>...</td>\n",
       "      <td>0</td>\n",
       "      <td>15</td>\n",
       "      <td>107</td>\n",
       "      <td>38</td>\n",
       "      <td>69</td>\n",
       "      <td>536.000</td>\n",
       "      <td>457.000</td>\n",
       "      <td>78</td>\n",
       "      <td>1</td>\n",
       "      <td>0</td>\n",
       "    </tr>\n",
       "    <tr>\n",
       "      <th>5</th>\n",
       "      <td>Athletic_Club</td>\n",
       "      <td>Defender</td>\n",
       "      <td>4.0</td>\n",
       "      <td>I. Martínez</td>\n",
       "      <td>2.903</td>\n",
       "      <td>33</td>\n",
       "      <td>87.00%</td>\n",
       "      <td>32</td>\n",
       "      <td>84.00%</td>\n",
       "      <td>33</td>\n",
       "      <td>...</td>\n",
       "      <td>0</td>\n",
       "      <td>53</td>\n",
       "      <td>329</td>\n",
       "      <td>162</td>\n",
       "      <td>167</td>\n",
       "      <td>1.440</td>\n",
       "      <td>1.074</td>\n",
       "      <td>361</td>\n",
       "      <td>5</td>\n",
       "      <td>0</td>\n",
       "    </tr>\n",
       "    <tr>\n",
       "      <th>6</th>\n",
       "      <td>Athletic_Club</td>\n",
       "      <td>Defender</td>\n",
       "      <td>5.0</td>\n",
       "      <td>Yeray</td>\n",
       "      <td>2.614</td>\n",
       "      <td>30</td>\n",
       "      <td>79.00%</td>\n",
       "      <td>28</td>\n",
       "      <td>74.00%</td>\n",
       "      <td>30</td>\n",
       "      <td>...</td>\n",
       "      <td>0</td>\n",
       "      <td>55</td>\n",
       "      <td>296</td>\n",
       "      <td>126</td>\n",
       "      <td>170</td>\n",
       "      <td>1.284</td>\n",
       "      <td>1.051</td>\n",
       "      <td>233</td>\n",
       "      <td>0</td>\n",
       "      <td>0</td>\n",
       "    </tr>\n",
       "    <tr>\n",
       "      <th>7</th>\n",
       "      <td>Athletic_Club</td>\n",
       "      <td>Defender</td>\n",
       "      <td>6.0</td>\n",
       "      <td>San José</td>\n",
       "      <td>1.716</td>\n",
       "      <td>33</td>\n",
       "      <td>87.00%</td>\n",
       "      <td>15</td>\n",
       "      <td>39.00%</td>\n",
       "      <td>16</td>\n",
       "      <td>...</td>\n",
       "      <td>0</td>\n",
       "      <td>42</td>\n",
       "      <td>243</td>\n",
       "      <td>141</td>\n",
       "      <td>102</td>\n",
       "      <td>707.000</td>\n",
       "      <td>637.000</td>\n",
       "      <td>64</td>\n",
       "      <td>6</td>\n",
       "      <td>0</td>\n",
       "    </tr>\n",
       "    <tr>\n",
       "      <th>8</th>\n",
       "      <td>Athletic_Club</td>\n",
       "      <td>Defender</td>\n",
       "      <td>12.0</td>\n",
       "      <td>Yuri B.</td>\n",
       "      <td>3.120</td>\n",
       "      <td>35</td>\n",
       "      <td>92.00%</td>\n",
       "      <td>33</td>\n",
       "      <td>87.00%</td>\n",
       "      <td>35</td>\n",
       "      <td>...</td>\n",
       "      <td>2</td>\n",
       "      <td>48</td>\n",
       "      <td>373</td>\n",
       "      <td>254</td>\n",
       "      <td>119</td>\n",
       "      <td>1.367</td>\n",
       "      <td>1.273</td>\n",
       "      <td>92</td>\n",
       "      <td>2</td>\n",
       "      <td>1</td>\n",
       "    </tr>\n",
       "    <tr>\n",
       "      <th>9</th>\n",
       "      <td>Athletic_Club</td>\n",
       "      <td>Defender</td>\n",
       "      <td>15.0</td>\n",
       "      <td>I. Lekue</td>\n",
       "      <td>210.000</td>\n",
       "      <td>4</td>\n",
       "      <td>11.00%</td>\n",
       "      <td>2</td>\n",
       "      <td>5.00%</td>\n",
       "      <td>2</td>\n",
       "      <td>...</td>\n",
       "      <td>2</td>\n",
       "      <td>5</td>\n",
       "      <td>29</td>\n",
       "      <td>20</td>\n",
       "      <td>9</td>\n",
       "      <td>85.000</td>\n",
       "      <td>75.000</td>\n",
       "      <td>10</td>\n",
       "      <td>0</td>\n",
       "      <td>0</td>\n",
       "    </tr>\n",
       "  </tbody>\n",
       "</table>\n",
       "<p>10 rows × 62 columns</p>\n",
       "</div>"
      ],
      "text/plain": [
       "            team    position shirt_number          name  minutes_played  \\\n",
       "0  Athletic_Club  Goalkeeper      unknown  Hodei Oleaga           0.000   \n",
       "1  Athletic_Club  Goalkeeper          1.0     A. Remiro           0.000   \n",
       "2  Athletic_Club  Goalkeeper         13.0      Herrerín           2.790   \n",
       "3  Athletic_Club  Goalkeeper         25.0    Unai Simón         630.000   \n",
       "4  Athletic_Club    Defender          3.0         Núñez           1.063   \n",
       "5  Athletic_Club    Defender          4.0   I. Martínez           2.903   \n",
       "6  Athletic_Club    Defender          5.0         Yeray           2.614   \n",
       "7  Athletic_Club    Defender          6.0      San José           1.716   \n",
       "8  Athletic_Club    Defender         12.0       Yuri B.           3.120   \n",
       "9  Athletic_Club    Defender         15.0      I. Lekue         210.000   \n",
       "\n",
       "   games_played percentage_of_games_played  full_games_played  \\\n",
       "0             0                      0.00%                  0   \n",
       "1             0                      0.00%                  0   \n",
       "2            31                     82.00%                 31   \n",
       "3             7                     18.00%                  7   \n",
       "4            12                     32.00%                 11   \n",
       "5            33                     87.00%                 32   \n",
       "6            30                     79.00%                 28   \n",
       "7            33                     87.00%                 15   \n",
       "8            35                     92.00%                 33   \n",
       "9             4                     11.00%                  2   \n",
       "\n",
       "  percentage_of_full_games_played  games_started  ... corners  tackles.1  \\\n",
       "0                           0.00%              0  ...       0          0   \n",
       "1                           0.00%              0  ...       0          0   \n",
       "2                          82.00%             31  ...       0          0   \n",
       "3                          18.00%              7  ...       0          0   \n",
       "4                          29.00%             11  ...       0         15   \n",
       "5                          84.00%             33  ...       0         53   \n",
       "6                          74.00%             30  ...       0         55   \n",
       "7                          39.00%             16  ...       0         42   \n",
       "8                          87.00%             35  ...       2         48   \n",
       "9                           5.00%              2  ...       2          5   \n",
       "\n",
       "  duels  man-to-man_duels  aerial_duels   passes  short_passes  long_passes  \\\n",
       "0     0                 0             0    0.000         0.000            0   \n",
       "1     0                 0             0    0.000         0.000            0   \n",
       "2    25                 6            19  887.000       128.000          759   \n",
       "3     3                 2             1  155.000        49.000          106   \n",
       "4   107                38            69  536.000       457.000           78   \n",
       "5   329               162           167    1.440         1.074          361   \n",
       "6   296               126           170    1.284         1.051          233   \n",
       "7   243               141           102  707.000       637.000           64   \n",
       "8   373               254           119    1.367         1.273           92   \n",
       "9    29                20             9   85.000        75.000           10   \n",
       "\n",
       "   through_balls  goals_scored_per_attempt  \n",
       "0              0                         0  \n",
       "1              0                         0  \n",
       "2              1                         0  \n",
       "3              0                         0  \n",
       "4              1                         0  \n",
       "5              5                         0  \n",
       "6              0                         0  \n",
       "7              6                         0  \n",
       "8              2                         1  \n",
       "9              0                         0  \n",
       "\n",
       "[10 rows x 62 columns]"
      ]
     },
     "execution_count": 227,
     "metadata": {},
     "output_type": "execute_result"
    }
   ],
   "source": [
    "players_df.head(10)"
   ]
  },
  {
   "cell_type": "markdown",
   "id": "6e31a725",
   "metadata": {},
   "source": [
    "### Exportamos a csv."
   ]
  },
  {
   "cell_type": "code",
   "execution_count": 225,
   "id": "497fc0b0",
   "metadata": {},
   "outputs": [],
   "source": [
    "players_df.to_csv(r'data/players_stats.csv', index=False)"
   ]
  }
 ],
 "metadata": {
  "kernelspec": {
   "display_name": "ironhack",
   "language": "python",
   "name": "ironhack"
  },
  "language_info": {
   "codemirror_mode": {
    "name": "ipython",
    "version": 3
   },
   "file_extension": ".py",
   "mimetype": "text/x-python",
   "name": "python",
   "nbconvert_exporter": "python",
   "pygments_lexer": "ipython3",
   "version": "3.8.10"
  }
 },
 "nbformat": 4,
 "nbformat_minor": 5
}
