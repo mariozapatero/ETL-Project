{
 "cells": [
  {
   "cell_type": "code",
   "execution_count": 30,
   "id": "44dfa7fa",
   "metadata": {},
   "outputs": [],
   "source": [
    "import pandas as pd\n",
    "import numpy as np"
   ]
  },
  {
   "cell_type": "code",
   "execution_count": 3,
   "id": "2582f49f",
   "metadata": {},
   "outputs": [],
   "source": [
    "players_df = pd.read_csv('data/laliga_player_stats_english.csv')"
   ]
  },
  {
   "cell_type": "code",
   "execution_count": 4,
   "id": "dcd50359",
   "metadata": {},
   "outputs": [
    {
     "data": {
      "text/html": [
       "<div>\n",
       "<style scoped>\n",
       "    .dataframe tbody tr th:only-of-type {\n",
       "        vertical-align: middle;\n",
       "    }\n",
       "\n",
       "    .dataframe tbody tr th {\n",
       "        vertical-align: top;\n",
       "    }\n",
       "\n",
       "    .dataframe thead th {\n",
       "        text-align: right;\n",
       "    }\n",
       "</style>\n",
       "<table border=\"1\" class=\"dataframe\">\n",
       "  <thead>\n",
       "    <tr style=\"text-align: right;\">\n",
       "      <th></th>\n",
       "      <th>Team</th>\n",
       "      <th>Position</th>\n",
       "      <th>Shirt number</th>\n",
       "      <th>Name</th>\n",
       "      <th>Minutes played</th>\n",
       "      <th>Games played</th>\n",
       "      <th>Percentage of games played</th>\n",
       "      <th>Full games played</th>\n",
       "      <th>Percentage of full games played</th>\n",
       "      <th>Games started</th>\n",
       "      <th>...</th>\n",
       "      <th>Corners</th>\n",
       "      <th>Tackles.1</th>\n",
       "      <th>Duels</th>\n",
       "      <th>Man-to-man duels</th>\n",
       "      <th>Aerial duels</th>\n",
       "      <th>Passes</th>\n",
       "      <th>Short passes</th>\n",
       "      <th>Long passes</th>\n",
       "      <th>Through balls</th>\n",
       "      <th>Goals scored per attempt</th>\n",
       "    </tr>\n",
       "  </thead>\n",
       "  <tbody>\n",
       "    <tr>\n",
       "      <th>0</th>\n",
       "      <td>Athletic Club</td>\n",
       "      <td>Goalkeeper</td>\n",
       "      <td>NaN</td>\n",
       "      <td>Hodei Oleaga</td>\n",
       "      <td>0.000</td>\n",
       "      <td>0</td>\n",
       "      <td>0.00%</td>\n",
       "      <td>0</td>\n",
       "      <td>0.00%</td>\n",
       "      <td>0</td>\n",
       "      <td>...</td>\n",
       "      <td>0</td>\n",
       "      <td>0</td>\n",
       "      <td>0</td>\n",
       "      <td>0</td>\n",
       "      <td>0</td>\n",
       "      <td>0.0</td>\n",
       "      <td>0.0</td>\n",
       "      <td>0</td>\n",
       "      <td>0</td>\n",
       "      <td>0</td>\n",
       "    </tr>\n",
       "    <tr>\n",
       "      <th>1</th>\n",
       "      <td>Athletic Club</td>\n",
       "      <td>Goalkeeper</td>\n",
       "      <td>1.0</td>\n",
       "      <td>A. Remiro</td>\n",
       "      <td>0.000</td>\n",
       "      <td>0</td>\n",
       "      <td>0.00%</td>\n",
       "      <td>0</td>\n",
       "      <td>0.00%</td>\n",
       "      <td>0</td>\n",
       "      <td>...</td>\n",
       "      <td>0</td>\n",
       "      <td>0</td>\n",
       "      <td>0</td>\n",
       "      <td>0</td>\n",
       "      <td>0</td>\n",
       "      <td>0.0</td>\n",
       "      <td>0.0</td>\n",
       "      <td>0</td>\n",
       "      <td>0</td>\n",
       "      <td>0</td>\n",
       "    </tr>\n",
       "    <tr>\n",
       "      <th>2</th>\n",
       "      <td>Athletic Club</td>\n",
       "      <td>Goalkeeper</td>\n",
       "      <td>13.0</td>\n",
       "      <td>Herrerín</td>\n",
       "      <td>2.790</td>\n",
       "      <td>31</td>\n",
       "      <td>82.00%</td>\n",
       "      <td>31</td>\n",
       "      <td>82.00%</td>\n",
       "      <td>31</td>\n",
       "      <td>...</td>\n",
       "      <td>0</td>\n",
       "      <td>0</td>\n",
       "      <td>25</td>\n",
       "      <td>6</td>\n",
       "      <td>19</td>\n",
       "      <td>887.0</td>\n",
       "      <td>128.0</td>\n",
       "      <td>759</td>\n",
       "      <td>1</td>\n",
       "      <td>0</td>\n",
       "    </tr>\n",
       "    <tr>\n",
       "      <th>3</th>\n",
       "      <td>Athletic Club</td>\n",
       "      <td>Goalkeeper</td>\n",
       "      <td>25.0</td>\n",
       "      <td>Unai Simón</td>\n",
       "      <td>630.000</td>\n",
       "      <td>7</td>\n",
       "      <td>18.00%</td>\n",
       "      <td>7</td>\n",
       "      <td>18.00%</td>\n",
       "      <td>7</td>\n",
       "      <td>...</td>\n",
       "      <td>0</td>\n",
       "      <td>0</td>\n",
       "      <td>3</td>\n",
       "      <td>2</td>\n",
       "      <td>1</td>\n",
       "      <td>155.0</td>\n",
       "      <td>49.0</td>\n",
       "      <td>106</td>\n",
       "      <td>0</td>\n",
       "      <td>0</td>\n",
       "    </tr>\n",
       "    <tr>\n",
       "      <th>4</th>\n",
       "      <td>Athletic Club</td>\n",
       "      <td>Defender</td>\n",
       "      <td>3.0</td>\n",
       "      <td>Núñez</td>\n",
       "      <td>1.063</td>\n",
       "      <td>12</td>\n",
       "      <td>32.00%</td>\n",
       "      <td>11</td>\n",
       "      <td>29.00%</td>\n",
       "      <td>11</td>\n",
       "      <td>...</td>\n",
       "      <td>0</td>\n",
       "      <td>15</td>\n",
       "      <td>107</td>\n",
       "      <td>38</td>\n",
       "      <td>69</td>\n",
       "      <td>536.0</td>\n",
       "      <td>457.0</td>\n",
       "      <td>78</td>\n",
       "      <td>1</td>\n",
       "      <td>0</td>\n",
       "    </tr>\n",
       "  </tbody>\n",
       "</table>\n",
       "<p>5 rows × 62 columns</p>\n",
       "</div>"
      ],
      "text/plain": [
       "            Team    Position  Shirt number          Name  Minutes played  \\\n",
       "0  Athletic Club  Goalkeeper           NaN  Hodei Oleaga           0.000   \n",
       "1  Athletic Club  Goalkeeper           1.0     A. Remiro           0.000   \n",
       "2  Athletic Club  Goalkeeper          13.0      Herrerín           2.790   \n",
       "3  Athletic Club  Goalkeeper          25.0    Unai Simón         630.000   \n",
       "4  Athletic Club    Defender           3.0         Núñez           1.063   \n",
       "\n",
       "   Games played Percentage of games played  Full games played  \\\n",
       "0             0                      0.00%                  0   \n",
       "1             0                      0.00%                  0   \n",
       "2            31                     82.00%                 31   \n",
       "3             7                     18.00%                  7   \n",
       "4            12                     32.00%                 11   \n",
       "\n",
       "  Percentage of full games played  Games started  ... Corners  Tackles.1  \\\n",
       "0                           0.00%              0  ...       0          0   \n",
       "1                           0.00%              0  ...       0          0   \n",
       "2                          82.00%             31  ...       0          0   \n",
       "3                          18.00%              7  ...       0          0   \n",
       "4                          29.00%             11  ...       0         15   \n",
       "\n",
       "  Duels  Man-to-man duels  Aerial duels  Passes  Short passes  Long passes  \\\n",
       "0     0                 0             0     0.0           0.0            0   \n",
       "1     0                 0             0     0.0           0.0            0   \n",
       "2    25                 6            19   887.0         128.0          759   \n",
       "3     3                 2             1   155.0          49.0          106   \n",
       "4   107                38            69   536.0         457.0           78   \n",
       "\n",
       "   Through balls  Goals scored per attempt  \n",
       "0              0                         0  \n",
       "1              0                         0  \n",
       "2              1                         0  \n",
       "3              0                         0  \n",
       "4              1                         0  \n",
       "\n",
       "[5 rows x 62 columns]"
      ]
     },
     "metadata": {},
     "output_type": "display_data"
    }
   ],
   "source": [
    "display(players_df.head())"
   ]
  },
  {
   "cell_type": "code",
   "execution_count": 38,
   "id": "02aa6df3",
   "metadata": {
    "scrolled": true
   },
   "outputs": [
    {
     "data": {
      "text/plain": [
       "(556, 62)"
      ]
     },
     "execution_count": 38,
     "metadata": {},
     "output_type": "execute_result"
    }
   ],
   "source": [
    "players_df.shape"
   ]
  },
  {
   "cell_type": "code",
   "execution_count": 40,
   "id": "95020448",
   "metadata": {
    "scrolled": true
   },
   "outputs": [
    {
     "data": {
      "text/plain": [
       "34472"
      ]
     },
     "execution_count": 40,
     "metadata": {},
     "output_type": "execute_result"
    }
   ],
   "source": [
    "players_df.size"
   ]
  },
  {
   "cell_type": "markdown",
   "id": "c0835ec8",
   "metadata": {},
   "source": [
    "# Limpieza"
   ]
  },
  {
   "cell_type": "markdown",
   "id": "c94a16a6",
   "metadata": {},
   "source": [
    "Comenzamos por la columna 'Team', sustituyendo los espacios por \"_\"."
   ]
  },
  {
   "cell_type": "code",
   "execution_count": 14,
   "id": "d1c3c01c",
   "metadata": {},
   "outputs": [
    {
     "data": {
      "text/plain": [
       "array(['Athletic Club', 'Atlético de Madrid', 'CD Leganés', 'D. Alavés',\n",
       "       'FC Barcelona', 'Getafe CF', 'Girona FC', 'Levante UD',\n",
       "       'R. Valladolid CF', 'Rayo Vallecano', 'RC Celta', 'RCD Espanyol',\n",
       "       'Real Betis', 'Real Madrid', 'Real Sociedad', 'SD Eibar',\n",
       "       'SD Huesca', 'Sevilla FC', 'Valencia CF', 'Villarreal CF'],\n",
       "      dtype=object)"
      ]
     },
     "execution_count": 14,
     "metadata": {},
     "output_type": "execute_result"
    }
   ],
   "source": [
    "players_df['Team'].unique()"
   ]
  },
  {
   "cell_type": "markdown",
   "id": "4b4e1ba2",
   "metadata": {},
   "source": [
    "Identificamos un problema con los nombres de los jugadores en nuestro DataFrame."
   ]
  },
  {
   "cell_type": "code",
   "execution_count": 24,
   "id": "5b9ed720",
   "metadata": {},
   "outputs": [
    {
     "data": {
      "text/plain": [
       "556"
      ]
     },
     "execution_count": 24,
     "metadata": {},
     "output_type": "execute_result"
    }
   ],
   "source": [
    "len(players_df.Name)"
   ]
  },
  {
   "cell_type": "code",
   "execution_count": 25,
   "id": "e83f1ce8",
   "metadata": {},
   "outputs": [
    {
     "data": {
      "text/plain": [
       "547"
      ]
     },
     "execution_count": 25,
     "metadata": {},
     "output_type": "execute_result"
    }
   ],
   "source": [
    "len(players_df.Name.unique())"
   ]
  },
  {
   "cell_type": "markdown",
   "id": "4eaf4ca7",
   "metadata": {},
   "source": [
    "Observamos que existen nombres repetidos (el número de valores es mayor al de valores únicos). En concreto, se repite un total de 9 valores (nombres de jugadores)\n",
    "\n",
    "Esto será un problema a la hora de vincular esta tabla con la de valores de mercado por jugadores, así que trataremos de limpiar los datos y arreglar este problema."
   ]
  },
  {
   "cell_type": "code",
   "execution_count": 21,
   "id": "f36a44ed",
   "metadata": {},
   "outputs": [],
   "source": [
    "# Primero averiguamos cuáles son los valores repetidos.\n",
    "\n",
    "pl = players_df.copy()  # Generemos una copia del DataFrame (para mantener el original intacto).\n",
    "p = pl.groupby('Name').Team.nunique().reset_index() # Agrupamos por 'Name' y en la columna 'Team' incluimos el número de valores en esta columna (una vez hecho el groupby)."
   ]
  },
  {
   "cell_type": "code",
   "execution_count": 23,
   "id": "18116059",
   "metadata": {
    "scrolled": true
   },
   "outputs": [
    {
     "name": "stdout",
     "output_type": "stream",
     "text": [
      "          Name  Team\n",
      "68       Borja     2\n",
      "76       Bruno     2\n",
      "248    Joaquín     2\n",
      "262   Juanfran     2\n",
      "280       Koke     2\n",
      "361      Nacho     2\n",
      "434    Rodrigo     2\n",
      "467  Sergio A.     2\n",
      "512    Vázquez     2\n"
     ]
    }
   ],
   "source": [
    "print(p.loc[p['Team'] > 1]) # Seleccionamos aquellos registros con un valor de 'Team' mayor que 1 (aquellos que se repiten)."
   ]
  },
  {
   "cell_type": "code",
   "execution_count": 31,
   "id": "26564aeb",
   "metadata": {},
   "outputs": [
    {
     "data": {
      "text/plain": [
       "[array([114, 236])]"
      ]
     },
     "execution_count": 31,
     "metadata": {},
     "output_type": "execute_result"
    }
   ],
   "source": [
    "duplicate = list(np.where(players_df[\"Name\"] == 'Borja')) \n",
    "duplicate # Nos devuelve el index del registro donde 'Name' = 'Borja'."
   ]
  },
  {
   "cell_type": "code",
   "execution_count": 35,
   "id": "311dfd7a",
   "metadata": {},
   "outputs": [
    {
     "name": "stdout",
     "output_type": "stream",
     "text": [
      "Borja Borja\n"
     ]
    }
   ],
   "source": [
    "# Observamos que el 'Name' para los index consultados coincide con 'Borja'\n",
    "\n",
    "print(players_df[\"Name\"][114], players_df[\"Name\"][236])"
   ]
  },
  {
   "cell_type": "code",
   "execution_count": 37,
   "id": "8546f349",
   "metadata": {
    "scrolled": false
   },
   "outputs": [
    {
     "name": "stdout",
     "output_type": "stream",
     "text": [
      "D. Alavés R. Valladolid CF\n"
     ]
    }
   ],
   "source": [
    "# Consultamos el equipo de cada Borja para poder buscar su apellido y cambiar el valor.\n",
    "\n",
    "print(players_df[\"Team\"][114], players_df[\"Team\"][236])"
   ]
  },
  {
   "cell_type": "markdown",
   "id": "0eaece81",
   "metadata": {},
   "source": [
    "Cambiaremos el nombre por nombre + apellido.\n",
    "\n",
    "Lo haremos \"a mano\" buscando el apellido del jugador en función del equipo en el que juega.\n",
    "\n",
    "En este primer caso:\n",
    "\n",
    "   - Borja del Alavés [114] = Borja Bastón\n",
    "   - Borja del Valladolid [236] = Borja Fernández\n",
    "   \n",
    "Cabe destacar que aprovecharemos para incluir el valor (nombre del jugador) tal y como lo tenemos en la tabla de market_values (ahorramos futuros procesos de limpieza)."
   ]
  },
  {
   "cell_type": "code",
   "execution_count": 52,
   "id": "0afa7445",
   "metadata": {
    "scrolled": false
   },
   "outputs": [
    {
     "name": "stderr",
     "output_type": "stream",
     "text": [
      "/tmp/ipykernel_672/1777558659.py:1: SettingWithCopyWarning: \n",
      "A value is trying to be set on a copy of a slice from a DataFrame\n",
      "\n",
      "See the caveats in the documentation: https://pandas.pydata.org/pandas-docs/stable/user_guide/indexing.html#returning-a-view-versus-a-copy\n",
      "  players_df[\"Name\"][114] = 'Borja Bastón'\n",
      "/tmp/ipykernel_672/1777558659.py:2: SettingWithCopyWarning: \n",
      "A value is trying to be set on a copy of a slice from a DataFrame\n",
      "\n",
      "See the caveats in the documentation: https://pandas.pydata.org/pandas-docs/stable/user_guide/indexing.html#returning-a-view-versus-a-copy\n",
      "  players_df[\"Name\"][236] = 'Borja Fernández'\n"
     ]
    }
   ],
   "source": [
    "players_df[\"Name\"][114] = 'Borja Bastón'\n",
    "players_df[\"Name\"][236] = 'Borja Fernández'"
   ]
  },
  {
   "cell_type": "code",
   "execution_count": 56,
   "id": "8723229d",
   "metadata": {
    "scrolled": true
   },
   "outputs": [
    {
     "name": "stdout",
     "output_type": "stream",
     "text": [
      "Borja Bastón Borja Fernández\n"
     ]
    }
   ],
   "source": [
    "print(players_df[\"Name\"][114], players_df[\"Name\"][236])"
   ]
  },
  {
   "cell_type": "markdown",
   "id": "e13b02d9",
   "metadata": {},
   "source": [
    "Seguimos este mismo proceso para el resto de valores repetidos."
   ]
  },
  {
   "cell_type": "markdown",
   "id": "510717b2",
   "metadata": {},
   "source": [
    "Para los \"Bruno\"."
   ]
  },
  {
   "cell_type": "code",
   "execution_count": 57,
   "id": "37611d53",
   "metadata": {},
   "outputs": [
    {
     "data": {
      "text/plain": [
       "[array([147, 548])]"
      ]
     },
     "execution_count": 57,
     "metadata": {},
     "output_type": "execute_result"
    }
   ],
   "source": [
    "duplicate = list(np.where(players_df[\"Name\"] == 'Bruno')) \n",
    "duplicate "
   ]
  },
  {
   "cell_type": "code",
   "execution_count": 60,
   "id": "39280273",
   "metadata": {
    "scrolled": false
   },
   "outputs": [
    {
     "name": "stdout",
     "output_type": "stream",
     "text": [
      "Getafe CF Villarreal CF\n"
     ]
    }
   ],
   "source": [
    "print(players_df[\"Team\"][147], players_df[\"Team\"][548])"
   ]
  },
  {
   "cell_type": "code",
   "execution_count": 61,
   "id": "089f9410",
   "metadata": {
    "scrolled": true
   },
   "outputs": [
    {
     "name": "stderr",
     "output_type": "stream",
     "text": [
      "/tmp/ipykernel_672/2025687323.py:1: SettingWithCopyWarning: \n",
      "A value is trying to be set on a copy of a slice from a DataFrame\n",
      "\n",
      "See the caveats in the documentation: https://pandas.pydata.org/pandas-docs/stable/user_guide/indexing.html#returning-a-view-versus-a-copy\n",
      "  players_df[\"Name\"][147] = 'Bruno González'\n",
      "/tmp/ipykernel_672/2025687323.py:2: SettingWithCopyWarning: \n",
      "A value is trying to be set on a copy of a slice from a DataFrame\n",
      "\n",
      "See the caveats in the documentation: https://pandas.pydata.org/pandas-docs/stable/user_guide/indexing.html#returning-a-view-versus-a-copy\n",
      "  players_df[\"Name\"][548] = 'Bruno Soriano'\n"
     ]
    }
   ],
   "source": [
    "players_df[\"Name\"][147] = 'Bruno González'\n",
    "players_df[\"Name\"][548] = 'Bruno Soriano'"
   ]
  },
  {
   "cell_type": "code",
   "execution_count": 62,
   "id": "572989c0",
   "metadata": {},
   "outputs": [
    {
     "name": "stdout",
     "output_type": "stream",
     "text": [
      "Bruno González Bruno Soriano\n"
     ]
    }
   ],
   "source": [
    "print(players_df[\"Name\"][147], players_df[\"Name\"][548])"
   ]
  },
  {
   "cell_type": "markdown",
   "id": "4de81ef9",
   "metadata": {},
   "source": [
    "Para los \"Joaquín\"."
   ]
  },
  {
   "cell_type": "code",
   "execution_count": 63,
   "id": "59d8b7de",
   "metadata": {},
   "outputs": [
    {
     "data": {
      "text/plain": [
       "[array([223, 354])]"
      ]
     },
     "execution_count": 63,
     "metadata": {},
     "output_type": "execute_result"
    }
   ],
   "source": [
    "duplicate = list(np.where(players_df[\"Name\"] == 'Joaquín')) \n",
    "duplicate "
   ]
  },
  {
   "cell_type": "code",
   "execution_count": 65,
   "id": "2a378de7",
   "metadata": {
    "scrolled": true
   },
   "outputs": [
    {
     "name": "stdout",
     "output_type": "stream",
     "text": [
      "R. Valladolid CF Real Betis\n"
     ]
    }
   ],
   "source": [
    "print(players_df[\"Team\"][223], players_df[\"Team\"][354])"
   ]
  },
  {
   "cell_type": "code",
   "execution_count": 66,
   "id": "4124fae9",
   "metadata": {
    "scrolled": true
   },
   "outputs": [
    {
     "name": "stderr",
     "output_type": "stream",
     "text": [
      "/tmp/ipykernel_672/1355056949.py:1: SettingWithCopyWarning: \n",
      "A value is trying to be set on a copy of a slice from a DataFrame\n",
      "\n",
      "See the caveats in the documentation: https://pandas.pydata.org/pandas-docs/stable/user_guide/indexing.html#returning-a-view-versus-a-copy\n",
      "  players_df[\"Name\"][223] = 'Joaquín Fernández'\n",
      "/tmp/ipykernel_672/1355056949.py:2: SettingWithCopyWarning: \n",
      "A value is trying to be set on a copy of a slice from a DataFrame\n",
      "\n",
      "See the caveats in the documentation: https://pandas.pydata.org/pandas-docs/stable/user_guide/indexing.html#returning-a-view-versus-a-copy\n",
      "  players_df[\"Name\"][354] = 'Joaquín'\n"
     ]
    }
   ],
   "source": [
    "players_df[\"Name\"][223] = 'Joaquín Fernández'\n",
    "players_df[\"Name\"][354] = 'Joaquín'"
   ]
  },
  {
   "cell_type": "markdown",
   "id": "df178fa7",
   "metadata": {},
   "source": [
    "Para los \"Juanfran\"."
   ]
  },
  {
   "cell_type": "code",
   "execution_count": 67,
   "id": "a2d9d027",
   "metadata": {},
   "outputs": [
    {
     "data": {
      "text/plain": [
       "[array([37, 65])]"
      ]
     },
     "execution_count": 67,
     "metadata": {},
     "output_type": "execute_result"
    }
   ],
   "source": [
    "duplicate = list(np.where(players_df[\"Name\"] == 'Juanfran')) \n",
    "duplicate "
   ]
  },
  {
   "cell_type": "code",
   "execution_count": 69,
   "id": "3551521c",
   "metadata": {
    "scrolled": true
   },
   "outputs": [
    {
     "name": "stdout",
     "output_type": "stream",
     "text": [
      "Atlético de Madrid CD Leganés\n"
     ]
    }
   ],
   "source": [
    "print(players_df[\"Team\"][37], players_df[\"Team\"][65])"
   ]
  },
  {
   "cell_type": "code",
   "execution_count": 70,
   "id": "ebfa5b23",
   "metadata": {
    "scrolled": true
   },
   "outputs": [
    {
     "name": "stderr",
     "output_type": "stream",
     "text": [
      "/tmp/ipykernel_672/3559239034.py:1: SettingWithCopyWarning: \n",
      "A value is trying to be set on a copy of a slice from a DataFrame\n",
      "\n",
      "See the caveats in the documentation: https://pandas.pydata.org/pandas-docs/stable/user_guide/indexing.html#returning-a-view-versus-a-copy\n",
      "  players_df[\"Name\"][37] = 'Juanfran Torres'\n",
      "/tmp/ipykernel_672/3559239034.py:2: SettingWithCopyWarning: \n",
      "A value is trying to be set on a copy of a slice from a DataFrame\n",
      "\n",
      "See the caveats in the documentation: https://pandas.pydata.org/pandas-docs/stable/user_guide/indexing.html#returning-a-view-versus-a-copy\n",
      "  players_df[\"Name\"][65] = 'Juanfran'\n"
     ]
    }
   ],
   "source": [
    "players_df[\"Name\"][37] = 'Juanfran Torres'\n",
    "players_df[\"Name\"][65] = 'Juanfran'"
   ]
  },
  {
   "cell_type": "markdown",
   "id": "ddaba479",
   "metadata": {},
   "source": [
    "Para los \"Koke\"."
   ]
  },
  {
   "cell_type": "code",
   "execution_count": null,
   "id": "9574a7ec",
   "metadata": {},
   "outputs": [],
   "source": [
    "duplicate = list(np.where(players_df[\"Name\"] == 'Koke')) \n",
    "duplicate "
   ]
  },
  {
   "cell_type": "code",
   "execution_count": 73,
   "id": "12679be7",
   "metadata": {},
   "outputs": [
    {
     "name": "stdout",
     "output_type": "stream",
     "text": [
      "Atlético de Madrid Levante UD\n"
     ]
    }
   ],
   "source": [
    "print(players_df[\"Team\"][44], players_df[\"Team\"][195])"
   ]
  },
  {
   "cell_type": "code",
   "execution_count": 76,
   "id": "e82646ee",
   "metadata": {
    "scrolled": false
   },
   "outputs": [
    {
     "name": "stderr",
     "output_type": "stream",
     "text": [
      "/tmp/ipykernel_672/2758875255.py:1: SettingWithCopyWarning: \n",
      "A value is trying to be set on a copy of a slice from a DataFrame\n",
      "\n",
      "See the caveats in the documentation: https://pandas.pydata.org/pandas-docs/stable/user_guide/indexing.html#returning-a-view-versus-a-copy\n",
      "  players_df[\"Name\"][44] = 'Koke'\n",
      "/tmp/ipykernel_672/2758875255.py:2: SettingWithCopyWarning: \n",
      "A value is trying to be set on a copy of a slice from a DataFrame\n",
      "\n",
      "See the caveats in the documentation: https://pandas.pydata.org/pandas-docs/stable/user_guide/indexing.html#returning-a-view-versus-a-copy\n",
      "  players_df[\"Name\"][195] = 'Koke Vegas'\n"
     ]
    }
   ],
   "source": [
    "players_df[\"Name\"][44] = 'Koke'\n",
    "players_df[\"Name\"][195] = 'Koke Vegas'"
   ]
  },
  {
   "cell_type": "markdown",
   "id": "44500a5e",
   "metadata": {},
   "source": [
    "Para los \"Nacho\"."
   ]
  },
  {
   "cell_type": "code",
   "execution_count": 80,
   "id": "615c2d49",
   "metadata": {},
   "outputs": [
    {
     "data": {
      "text/plain": [
       "[array([229, 375])]"
      ]
     },
     "execution_count": 80,
     "metadata": {},
     "output_type": "execute_result"
    }
   ],
   "source": [
    "duplicate = list(np.where(players_df[\"Name\"] == 'Nacho')) \n",
    "duplicate "
   ]
  },
  {
   "cell_type": "code",
   "execution_count": 81,
   "id": "54c72933",
   "metadata": {},
   "outputs": [
    {
     "name": "stdout",
     "output_type": "stream",
     "text": [
      "R. Valladolid CF Real Madrid\n"
     ]
    }
   ],
   "source": [
    "print(players_df[\"Team\"][229], players_df[\"Team\"][375])"
   ]
  },
  {
   "cell_type": "code",
   "execution_count": 83,
   "id": "b6e15b7d",
   "metadata": {},
   "outputs": [
    {
     "name": "stderr",
     "output_type": "stream",
     "text": [
      "/tmp/ipykernel_672/3738047678.py:1: SettingWithCopyWarning: \n",
      "A value is trying to be set on a copy of a slice from a DataFrame\n",
      "\n",
      "See the caveats in the documentation: https://pandas.pydata.org/pandas-docs/stable/user_guide/indexing.html#returning-a-view-versus-a-copy\n",
      "  players_df[\"Name\"][229] = 'Nacho Martínez'\n",
      "/tmp/ipykernel_672/3738047678.py:2: SettingWithCopyWarning: \n",
      "A value is trying to be set on a copy of a slice from a DataFrame\n",
      "\n",
      "See the caveats in the documentation: https://pandas.pydata.org/pandas-docs/stable/user_guide/indexing.html#returning-a-view-versus-a-copy\n",
      "  players_df[\"Name\"][375] = 'Nacho Fernández'\n"
     ]
    }
   ],
   "source": [
    "players_df[\"Name\"][229] = 'Nacho Martínez'\n",
    "players_df[\"Name\"][375] = 'Nacho Fernández'"
   ]
  },
  {
   "cell_type": "markdown",
   "id": "0601be0c",
   "metadata": {},
   "source": [
    "Para los \"Rodrigo\"."
   ]
  },
  {
   "cell_type": "code",
   "execution_count": 84,
   "id": "e5ce910a",
   "metadata": {},
   "outputs": [
    {
     "data": {
      "text/plain": [
       "[array([ 46, 525])]"
      ]
     },
     "execution_count": 84,
     "metadata": {},
     "output_type": "execute_result"
    }
   ],
   "source": [
    "duplicate = list(np.where(players_df[\"Name\"] == 'Rodrigo')) \n",
    "duplicate "
   ]
  },
  {
   "cell_type": "code",
   "execution_count": 85,
   "id": "4927c553",
   "metadata": {},
   "outputs": [
    {
     "name": "stdout",
     "output_type": "stream",
     "text": [
      "Atlético de Madrid Valencia CF\n"
     ]
    }
   ],
   "source": [
    "print(players_df[\"Team\"][46], players_df[\"Team\"][525])"
   ]
  },
  {
   "cell_type": "code",
   "execution_count": 86,
   "id": "ea571e1d",
   "metadata": {
    "scrolled": true
   },
   "outputs": [
    {
     "name": "stderr",
     "output_type": "stream",
     "text": [
      "/tmp/ipykernel_672/905268284.py:1: SettingWithCopyWarning: \n",
      "A value is trying to be set on a copy of a slice from a DataFrame\n",
      "\n",
      "See the caveats in the documentation: https://pandas.pydata.org/pandas-docs/stable/user_guide/indexing.html#returning-a-view-versus-a-copy\n",
      "  players_df[\"Name\"][46] = 'Rodri'\n",
      "/tmp/ipykernel_672/905268284.py:2: SettingWithCopyWarning: \n",
      "A value is trying to be set on a copy of a slice from a DataFrame\n",
      "\n",
      "See the caveats in the documentation: https://pandas.pydata.org/pandas-docs/stable/user_guide/indexing.html#returning-a-view-versus-a-copy\n",
      "  players_df[\"Name\"][525] = 'Rodrigo'\n"
     ]
    }
   ],
   "source": [
    "players_df[\"Name\"][46] = 'Rodri'\n",
    "players_df[\"Name\"][525] = 'Rodrigo'"
   ]
  },
  {
   "cell_type": "markdown",
   "id": "ba6abe78",
   "metadata": {},
   "source": [
    "Para los \"Sergio A.\"."
   ]
  },
  {
   "cell_type": "code",
   "execution_count": 87,
   "id": "6aea46ca",
   "metadata": {},
   "outputs": [
    {
     "data": {
      "text/plain": [
       "[array([284, 441])]"
      ]
     },
     "execution_count": 87,
     "metadata": {},
     "output_type": "execute_result"
    }
   ],
   "source": [
    "duplicate = list(np.where(players_df[\"Name\"] == 'Sergio A.')) \n",
    "duplicate "
   ]
  },
  {
   "cell_type": "code",
   "execution_count": 88,
   "id": "964e0891",
   "metadata": {},
   "outputs": [
    {
     "name": "stdout",
     "output_type": "stream",
     "text": [
      "RC Celta SD Eibar\n"
     ]
    }
   ],
   "source": [
    "print(players_df[\"Team\"][284], players_df[\"Team\"][441])"
   ]
  },
  {
   "cell_type": "code",
   "execution_count": 89,
   "id": "c36a34d0",
   "metadata": {},
   "outputs": [
    {
     "name": "stderr",
     "output_type": "stream",
     "text": [
      "/tmp/ipykernel_672/2998268048.py:1: SettingWithCopyWarning: \n",
      "A value is trying to be set on a copy of a slice from a DataFrame\n",
      "\n",
      "See the caveats in the documentation: https://pandas.pydata.org/pandas-docs/stable/user_guide/indexing.html#returning-a-view-versus-a-copy\n",
      "  players_df[\"Name\"][284] = 'Sergio Álvarez'\n",
      "/tmp/ipykernel_672/2998268048.py:2: SettingWithCopyWarning: \n",
      "A value is trying to be set on a copy of a slice from a DataFrame\n",
      "\n",
      "See the caveats in the documentation: https://pandas.pydata.org/pandas-docs/stable/user_guide/indexing.html#returning-a-view-versus-a-copy\n",
      "  players_df[\"Name\"][441] = 'Sergio Álvarez Díaz' # Ojo que este no coincide con el nombre en market_values (allí es 'Sergio Álvarez'; lo cambiamos para que sea valor único).\n"
     ]
    }
   ],
   "source": [
    "players_df[\"Name\"][284] = 'Sergio Álvarez'\n",
    "players_df[\"Name\"][441] = 'Sergio Álvarez Díaz' # Ojo que este no coincide con el nombre en market_values (allí es 'Sergio Álvarez'; lo cambiamos para que sea valor único)."
   ]
  },
  {
   "cell_type": "markdown",
   "id": "8683e8f7",
   "metadata": {},
   "source": [
    "Para los \"Vázquez\"."
   ]
  },
  {
   "cell_type": "code",
   "execution_count": 90,
   "id": "bc1d1fc8",
   "metadata": {},
   "outputs": [
    {
     "data": {
      "text/plain": [
       "[array([293, 498])]"
      ]
     },
     "execution_count": 90,
     "metadata": {},
     "output_type": "execute_result"
    }
   ],
   "source": [
    "duplicate = list(np.where(players_df[\"Name\"] == 'Vázquez')) \n",
    "duplicate "
   ]
  },
  {
   "cell_type": "code",
   "execution_count": 91,
   "id": "2445fb80",
   "metadata": {},
   "outputs": [
    {
     "name": "stdout",
     "output_type": "stream",
     "text": [
      "RC Celta Sevilla FC\n"
     ]
    }
   ],
   "source": [
    "print(players_df[\"Team\"][293], players_df[\"Team\"][498])"
   ]
  },
  {
   "cell_type": "code",
   "execution_count": 95,
   "id": "98628e2c",
   "metadata": {},
   "outputs": [
    {
     "name": "stderr",
     "output_type": "stream",
     "text": [
      "/tmp/ipykernel_672/2032546285.py:1: SettingWithCopyWarning: \n",
      "A value is trying to be set on a copy of a slice from a DataFrame\n",
      "\n",
      "See the caveats in the documentation: https://pandas.pydata.org/pandas-docs/stable/user_guide/indexing.html#returning-a-view-versus-a-copy\n",
      "  players_df[\"Name\"][293] = 'Kevin Vázquez'\n",
      "/tmp/ipykernel_672/2032546285.py:2: SettingWithCopyWarning: \n",
      "A value is trying to be set on a copy of a slice from a DataFrame\n",
      "\n",
      "See the caveats in the documentation: https://pandas.pydata.org/pandas-docs/stable/user_guide/indexing.html#returning-a-view-versus-a-copy\n",
      "  players_df[\"Name\"][498] = 'Franco Vázquez'\n"
     ]
    }
   ],
   "source": [
    "players_df[\"Name\"][293] = 'Kevin Vázquez'\n",
    "players_df[\"Name\"][498] = 'Franco Vázquez'"
   ]
  },
  {
   "cell_type": "markdown",
   "id": "5577fb99",
   "metadata": {},
   "source": [
    "Comprobamos que ya no quedan valores duplicados en esta columna."
   ]
  },
  {
   "cell_type": "code",
   "execution_count": 98,
   "id": "d7c63461",
   "metadata": {},
   "outputs": [
    {
     "data": {
      "text/plain": [
       "556"
      ]
     },
     "execution_count": 98,
     "metadata": {},
     "output_type": "execute_result"
    }
   ],
   "source": [
    "len(players_df.Name)"
   ]
  },
  {
   "cell_type": "code",
   "execution_count": 99,
   "id": "2c6b11be",
   "metadata": {},
   "outputs": [
    {
     "data": {
      "text/plain": [
       "556"
      ]
     },
     "execution_count": 99,
     "metadata": {},
     "output_type": "execute_result"
    }
   ],
   "source": [
    "len(players_df.Name.unique())"
   ]
  }
 ],
 "metadata": {
  "kernelspec": {
   "display_name": "ironhack",
   "language": "python",
   "name": "ironhack"
  },
  "language_info": {
   "codemirror_mode": {
    "name": "ipython",
    "version": 3
   },
   "file_extension": ".py",
   "mimetype": "text/x-python",
   "name": "python",
   "nbconvert_exporter": "python",
   "pygments_lexer": "ipython3",
   "version": "3.8.10"
  }
 },
 "nbformat": 4,
 "nbformat_minor": 5
}
